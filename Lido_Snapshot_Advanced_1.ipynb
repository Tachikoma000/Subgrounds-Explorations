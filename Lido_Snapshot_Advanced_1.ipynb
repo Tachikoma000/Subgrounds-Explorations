{
 "cells": [
  {
   "cell_type": "markdown",
   "metadata": {},
   "source": [
    "## Subgrounds Tutorials: Lido Exploration\n",
    "\n",
    "\n",
    "This code demonstrates how to use the Subgrounds library to interact with the Lido Ethereum subgraph and fetch specific financial data for a particular pool with the pool's ID. The data is then processed, manipulated, and displayed in a human-readable format.\n",
    "\n",
    "- Import the necessary libraries: The code starts by importing the required Python libraries, including `datetime` from the standard library, and `SyntheticField` and `Subgrounds` from the `subgrounds` library. It also imports `pandas` and `numpy` for handling data as DataFrames and performing numerical operations.\n",
    "\n",
    "- Initialize Subgrounds: The `Subground`s object is initialized as `sg`. This object serves as the main entry point for interacting with different subgraphs and fetching data using GraphQL queries.\n",
    "\n",
    "- Load Lido Ethereum subgraph: The Lido Ethereum subgraph is loaded using its API URL. This returns a `Subgraph` object named `lido_pool_stETH`, which is used to interact with the Lido Ethereum subgraph.\n",
    "\n",
    "- Query pool data: The code constructs a query to fetch the `pools` entity from the Lido Ethereum subgraph. It specifies ordering options to sort the data by `createdTimestamp` in descending order and limits the number of results to 30. The `where` clause filters the results to only include the pool with the specified ID.\n",
    "\n",
    "- Create a SyntheticField for human-readable timestamps: A `SyntheticField` named `datetime` is created for the `Pool` entity. This field takes the original `createdTimestamp` field, converts it to a human-readable format using the `datetime.fromtimestamp()` function, and stores it as a float. This makes it easier to read and understand the timestamp data.\n",
    "\n",
    "- Create a SyntheticField for decimal conversion: A `SyntheticField` named `inputTokenBalance_decimalConv` is created for the `Pool` entity. This field takes the original `inputTokenBalances` field, divides it by 10^18 to convert it to a decimal representation, and stores it as a float.\n",
    "\n",
    "- Fetch data and store it in a DataFrame: The `sg.query_df()` function is used to execute the query and fetch the data. It takes a list of the fields to be fetched (created timestamp, cumulative protocol-side revenue, cumulative supply-side revenue, cumulative total revenue, input token balance, output token supply, and total value locked) and returns a pandas DataFrame containing the data.\n",
    "\n",
    "- Squeeze the DataFrame: The `pool_summary` DataFrame is squeezed using the `squeeze()` function, which turns it into a pandas Series named `squeezed_pool_summary`.\n",
    "\n",
    "- Format the data: A custom function named `format_decimal()` is defined to format the numbers in the Series to a specified number of decimal places. The `squeezed_pool_summary` Series is then passed through this function, resulting in a new Series named `decimal_pool_summary` with formatted numbers.\n",
    "\n",
    "- Print the resulting Series: The `decimal_pool_summary` Series is printed to display the fetched and formatted financial data.\n",
    "\n",
    "The main focus of this code is to demonstrate how the Subgrounds library can be used to interact with a subgraph (Lido Ethereum subgraph) and fetch specific financial data for a particular pool using queries. This data can then be processed, manipulated, and displayed in a human-readable format using other Python libraries like pandas and numpy.\n",
    "\n",
    "\n"
   ]
  },
  {
   "cell_type": "code",
   "execution_count": 4,
   "metadata": {},
   "outputs": [
    {
     "name": "stdout",
     "output_type": "stream",
     "text": [
      "pools_createdTimestamp                    1608334322.0000\n",
      "pools_cumulativeProtocolSideRevenueUSD      56169368.6792\n",
      "pools_cumulativeSupplySideRevenueUSD       498583495.0998\n",
      "pools_cumulativeTotalRevenueUSD            554752863.7790\n",
      "pools_inputTokenBalance_decimalConv          5510016.5392\n",
      "pools_outputTokenSupply_decimalConv          5798052.6872\n",
      "pools_totalValueLockedUSD                 9113127312.5005\n",
      "Name: 0, dtype: object\n"
     ]
    }
   ],
   "source": [
    "from datetime import datetime\n",
    "from subgrounds.subgraph import SyntheticField\n",
    "from subgrounds import Subgrounds\n",
    "import pandas as pd\n",
    "import numpy as np\n",
    "\n",
    "# Initialize Subgrounds\n",
    "sg = Subgrounds()\n",
    "\n",
    "# Load a subgraph using its API URL\n",
    "lido_pool_stETH = sg.load_subgraph('https://api.thegraph.com/subgraphs/name/messari/lido-ethereum')\n",
    "\n",
    "# Create a FieldPath object for the required fields in the financialsDailySnapshots entity.\n",
    "# Specify options to sort the data by timestamp in descending order and limit the number of results to 30.\n",
    "lido_pool_stETH_pool_summary = lido_pool_stETH.Query.pools(\n",
    "    orderBy=lido_pool_stETH.Pool.createdTimestamp, \n",
    "    orderDirection='desc', \n",
    "    first=30,\n",
    "    where=[\n",
    "        lido_pool_stETH.Pool.id == \"0xae7ab96520DE3A18E5e111B5EaAb095312D7fE84\"\n",
    "    ]\n",
    ")\n",
    "\n",
    "# Create a SyntheticField on the Swap entity called `timestamp`, which will format the timestamp field into something more human readable\n",
    "lido_pool_stETH.Pool.datetime = SyntheticField(\n",
    "  lambda createdTimestamp: str(datetime.fromtimestamp(createdTimestamp)),\n",
    "  SyntheticField.FLOAT,\n",
    "  lido_pool_stETH.Pool.createdTimestamp\n",
    ")\n",
    "\n",
    "# Create a SyntheticField on the Swap entity called `timestamp`, which will format the timestamp field into something more human readable\n",
    "lido_pool_stETH.Pool.inputTokenBalance_decimalConv = SyntheticField(\n",
    "  lambda x: x[0] / (10**18) if type(x) is list else x / (10**18),\n",
    "  SyntheticField.FLOAT,\n",
    "  lido_pool_stETH.Pool.inputTokenBalances\n",
    ")\n",
    "\n",
    "lido_pool_stETH.Pool.outputTokenSupply_decimalConv = SyntheticField(\n",
    "  lambda x: x[0] / (10**18) if type(x) is list else x / (10**18),\n",
    "  SyntheticField.FLOAT,\n",
    "  lido_pool_stETH.Pool.outputTokenSupply\n",
    ")\n",
    "\n",
    "# lido_pool_stETH.Pool.inputTokenBalance_decimalConv = lido_pool_stETH.Pool.inputTokenBalances / (10**18)\n",
    "\n",
    "pool_summary = sg.query_df([\n",
    "    lido_pool_stETH_pool_summary.createdTimestamp,\n",
    "    lido_pool_stETH_pool_summary.cumulativeProtocolSideRevenueUSD,\n",
    "    lido_pool_stETH_pool_summary.cumulativeSupplySideRevenueUSD,\n",
    "    lido_pool_stETH_pool_summary.cumulativeTotalRevenueUSD,\n",
    "    lido_pool_stETH_pool_summary.inputTokenBalance_decimalConv,\n",
    "    lido_pool_stETH_pool_summary.outputTokenSupply_decimalConv,\n",
    "    lido_pool_stETH_pool_summary.totalValueLockedUSD\n",
    "])\n",
    "# squeezed_pool_summary = pool_summary.astype('float64').squeeze()\n",
    "squeezed_pool_summary = pool_summary.squeeze()\n",
    "\n",
    "def format_decimal(number, decimal_places=4):\n",
    "    return f\"{number:.{decimal_places}f}\"\n",
    "\n",
    "# Assuming your squeezed DataFrame is named 'squeezed_pool_summary'\n",
    "decimal_pool_summary = squeezed_pool_summary.apply(format_decimal)\n",
    "\n",
    "# Print the resulting Series\n",
    "print(decimal_pool_summary)"
   ]
  },
  {
   "cell_type": "code",
   "execution_count": null,
   "metadata": {},
   "outputs": [],
   "source": []
  }
 ],
 "metadata": {
  "kernelspec": {
   "display_name": "Python 3.10.2 ('.venv': venv)",
   "language": "python",
   "name": "python3"
  },
  "language_info": {
   "codemirror_mode": {
    "name": "ipython",
    "version": 3
   },
   "file_extension": ".py",
   "mimetype": "text/x-python",
   "name": "python",
   "nbconvert_exporter": "python",
   "pygments_lexer": "ipython3",
   "version": "3.10.2"
  },
  "orig_nbformat": 4,
  "vscode": {
   "interpreter": {
    "hash": "d7aa3448851527b49d354d2668c681954f35847c838496ed479518c3ebc0d768"
   }
  }
 },
 "nbformat": 4,
 "nbformat_minor": 2
}
