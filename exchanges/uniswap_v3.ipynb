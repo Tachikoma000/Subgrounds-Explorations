{
 "cells": [
  {
   "cell_type": "markdown",
   "metadata": {},
   "source": [
    "# Uniswap v3 Analysis\n",
    "\n",
    "## Querying Financials Daily Snapshots\n",
    "This code section retrieves information about the latest financial snapshot of a specific Uniswap v3 subgraph. It does the following:\n",
    "- Imports necessary libraries for Subgrounds and environment variables\n",
    "- Loads environment variables from a `.env` file\n",
    "- Creates a `Subgrounds` object for interacting with subgraphs\n",
    "- Loads a specific Uniswap v3 subgraph with a given API endpoint\n",
    "- Queries the `financialsDailySnapshots` endpoint with specific filter criteria\n",
    "- Converts the query results to a Pandas dataframe and extracts the first row\n",
    "- View the result\n",
    "\n",
    "## Querying Liquidity Pools\n",
    "This code section retrieves information about the liquidity pools of a specific Uniswap v3 subgraph. It does the following:\n",
    "- Queries the `liquidityPools` endpoint with specific filter criteria\n",
    "- Converts the query results to a Pandas dataframe and extracts the first row\n",
    "- Stores the resulting Pandas series in `res2`\n",
    "\n",
    "## Querying dexAmmProtocols\n",
    "This code section retrieves information about the decentralized exchange automated market maker (DEX AMM) protocols of a specific Uniswap v3 subgraph. It does the following:\n",
    "- Queries the `dexAmmProtocols` endpoint with specific filter criteria\n",
    "- Converts the query results to a Pandas dataframe and extracts the first row\n",
    "- Stores the resulting Pandas series in `res3`\n",
    "\n",
    "## Querying Pools Daily Snapshots\n",
    "This code section retrieves information about a specific liquidity pool on a Uniswap v3 subgraph. It does the following:\n",
    "- Queries the `liquidityPoolDailySnapshots` endpoint with specific filter criteria\n",
    "- Queries multiple fields from the resulting data and stores it in a JSON object\n",
    "- Prints the resulting JSON object\n",
    "\n",
    "\n"
   ]
  },
  {
   "cell_type": "code",
   "execution_count": 9,
   "metadata": {},
   "outputs": [
    {
     "data": {
      "text/plain": [
       "financialsDailySnapshots_id                                                                       19466\n",
       "financialsDailySnapshots_protocol_id                         0x1f98431c8ad98523631ae4a59f267346ea31f984\n",
       "financialsDailySnapshots_totalValueLockedUSD                                 110999999999999943376896.0\n",
       "financialsDailySnapshots_protocolControlledValueUSD                                                None\n",
       "financialsDailySnapshots_dailyVolumeUSD                                                778722656.913137\n",
       "financialsDailySnapshots_cumulativeVolumeUSD                                        928877606681.182251\n",
       "financialsDailySnapshots_dailySupplySideRevenueUSD                                       1374325.062955\n",
       "financialsDailySnapshots_cumulativeSupplySideRevenueUSD                               1378678041.319323\n",
       "financialsDailySnapshots_dailyProtocolSideRevenueUSD                                                0.0\n",
       "financialsDailySnapshots_cumulativeProtocolSideRevenueUSD                                           0.0\n",
       "financialsDailySnapshots_dailyTotalRevenueUSD                                            1374325.062955\n",
       "financialsDailySnapshots_cumulativeTotalRevenueUSD                                    1378678041.319323\n",
       "financialsDailySnapshots_blockNumber                                                           17083208\n",
       "financialsDailySnapshots_timestamp                                                           1681938491\n",
       "Name: 0, dtype: object"
      ]
     },
     "execution_count": 9,
     "metadata": {},
     "output_type": "execute_result"
    }
   ],
   "source": [
    "# Import the Subgrounds library\n",
    "from subgrounds import Subgrounds\n",
    "from dotenv import load_dotenv\n",
    "import os\n",
    "\n",
    "load_dotenv()\n",
    "graph_api_key = os.getenv('GRAPH_API_KEY')\n",
    "\n",
    "# Create a new Subgrounds object\n",
    "sg = Subgrounds()\n",
    "\n",
    "# Load the Uniswap v3 subgraph using a specific API endpoint\n",
    "uni = sg.load_subgraph(f'https://gateway.thegraph.com/api/{graph_api_key}/subgraphs/id/ELUcwgpm14LKPLrBRuVvPvNKHQ9HvwmtKgKSH6123cr7')\n",
    "# b2f94294e72881a7cdfe13eaba5709f4\n",
    "# Query the financialsDailySnapshots endpoint with a specified order, limit, and filter criteria\n",
    "latest_snapshots = uni.Query.financialsDailySnapshots(\n",
    "  orderBy=uni.FinancialsDailySnapshot.timestamp,\n",
    "  orderDirection='desc',\n",
    "  first=1,\n",
    ")\n",
    "\n",
    "# Convert the query results to a Pandas dataframe and extract the first row\n",
    "res = sg.query_df(latest_snapshots).squeeze()\n",
    "\n",
    "# Print the result\n",
    "res"
   ]
  },
  {
   "cell_type": "markdown",
   "metadata": {},
   "source": [
    "This code queries the `liquidityPools` endpoint of a specific Uniswap v3 subgraph to retrieve information about the liquidity pools that exist on the network. Here's a breakdown of what each part of the code does:\n",
    "\n",
    "- `uni.Query.liquidityPools(...)` creates a query object for the `liquidityPools` endpoint of the subgraph. The query object specifies that the first result should be returned, the results should be sorted in descending order by the total value locked in USD, and the order should be descending.\n",
    "\n",
    "- `sg.query_df(pools)` executes the query and converts the results into a Pandas dataframe.\n",
    "\n",
    "- `.squeeze()` is used to extract the first row of the resulting dataframe as a Pandas series.\n",
    "\n",
    "- `res2` stores the resulting Pandas series.\n",
    "\n",
    "In summary, this code retrieves information about the Uniswap v3 liquidity pool with the highest total value locked in USD, converts it into a Pandas series, and stores it in `res2`.\n"
   ]
  },
  {
   "cell_type": "code",
   "execution_count": 10,
   "metadata": {},
   "outputs": [
    {
     "data": {
      "text/plain": [
       "liquidityPools_id                                  0x88e6a0c2ddd26feeb64f039a2c41296fcb3f5640\n",
       "liquidityPools_protocol_id                         0x1f98431c8ad98523631ae4a59f267346ea31f984\n",
       "liquidityPools_name                                   Uniswap V3 USD Coin/Wrapped Ether 0.05%\n",
       "liquidityPools_symbol                                                  USD Coin/Wrapped Ether\n",
       "liquidityPools_outputToken_id                                                            None\n",
       "liquidityPools_isSingleSided                                                            False\n",
       "liquidityPools_createdTimestamp                                                    1620250931\n",
       "liquidityPools_createdBlockNumber                                                    12376729\n",
       "liquidityPools_totalValueLockedUSD                                           270648433.447952\n",
       "liquidityPools_cumulativeSupplySideRevenueUSD                                183382683.754926\n",
       "liquidityPools_cumulativeProtocolSideRevenueUSD                                           0.0\n",
       "liquidityPools_cumulativeTotalRevenueUSD                                     183382683.754926\n",
       "liquidityPools_cumulativeVolumeUSD                                         366765367509.85199\n",
       "liquidityPools_outputTokenSupply                                                         None\n",
       "liquidityPools_outputTokenPriceUSD                                                       None\n",
       "liquidityPools_stakedOutputTokenAmount                                                   None\n",
       "Name: 0, dtype: object"
      ]
     },
     "execution_count": 10,
     "metadata": {},
     "output_type": "execute_result"
    }
   ],
   "source": [
    "# This code queries the liquidityPools endpoint of a specific Uniswap v3 subgraph to retrieve information about the liquidity pools that exist on the network\n",
    "\n",
    "# Create a query object for the liquidityPools endpoint that specifies that the first result should be returned, the results should be sorted in descending order by the total value locked in USD, and the order should be descending.\n",
    "pools = uni.Query.liquidityPools(\n",
    "  first=1,\n",
    "  orderBy=uni.LiquidityPool.totalValueLockedUSD,\n",
    "  orderDirection='desc'\n",
    ")\n",
    "\n",
    "# Execute the query, convert the results into a Pandas dataframe, and extract the first row as a Pandas series.\n",
    "res2 = sg.query_df(pools).squeeze()\n",
    "\n",
    "# Store the resulting Pandas series in res2.\n",
    "res2"
   ]
  },
  {
   "cell_type": "code",
   "execution_count": 11,
   "metadata": {},
   "outputs": [
    {
     "data": {
      "text/plain": [
       "dexAmmProtocols_id                                  0x1f98431c8ad98523631ae4a59f267346ea31f984\n",
       "dexAmmProtocols_name                                                                Uniswap V3\n",
       "dexAmmProtocols_slug                                                                uniswap-v3\n",
       "dexAmmProtocols_schemaVersion                                                            1.3.0\n",
       "dexAmmProtocols_subgraphVersion                                                          1.1.4\n",
       "dexAmmProtocols_methodologyVersion                                                       1.0.0\n",
       "dexAmmProtocols_network                                                                MAINNET\n",
       "dexAmmProtocols_type                                                                  EXCHANGE\n",
       "dexAmmProtocols_totalValueLockedUSD                                 110999999999999943376896.0\n",
       "dexAmmProtocols_protocolControlledValueUSD                                                None\n",
       "dexAmmProtocols_cumulativeVolumeUSD                                        928878778217.487793\n",
       "dexAmmProtocols_cumulativeSupplySideRevenueUSD                               1378681772.765337\n",
       "dexAmmProtocols_cumulativeProtocolSideRevenueUSD                                           0.0\n",
       "dexAmmProtocols_cumulativeTotalRevenueUSD                                    1378681772.765337\n",
       "dexAmmProtocols_cumulativeUniqueUsers                                                  2758272\n",
       "dexAmmProtocols_totalPoolCount                                                           11192\n",
       "dexAmmProtocols__regenesis                                                               False\n",
       "Name: 0, dtype: object"
      ]
     },
     "execution_count": 11,
     "metadata": {},
     "output_type": "execute_result"
    }
   ],
   "source": [
    "# This code queries the dexAmmProtocols endpoint of a specific Uniswap v3 subgraph to retrieve information about the decentralized exchange automated market maker (DEX AMM) protocols that exist on the network.\n",
    "\n",
    "# Create a query object for the dexAmmProtocols endpoint that specifies that the first result should be returned.\n",
    "protocol = uni.Query.dexAmmProtocols(\n",
    "  first=1\n",
    ")\n",
    "\n",
    "# Execute the query, convert the results into a Pandas dataframe, and extract the first row as a Pandas series.\n",
    "res3 = sg.query_df(protocol).squeeze()\n",
    "\n",
    "# Store the resulting Pandas series in res3.\n",
    "res3\n"
   ]
  },
  {
   "cell_type": "code",
   "execution_count": 12,
   "metadata": {},
   "outputs": [
    {
     "data": {
      "text/plain": [
       "[{'x3bb29be81118585a': [{'id': '0x88e6a0c2ddd26feeb64f039a2c41296fcb3f5640-19466',\n",
       "    'blockNumber': 17083236,\n",
       "    'totalValueLockedUSD': 315813886.28427213,\n",
       "    'cumulativeSupplySideRevenueUSD': 180344787.68128484,\n",
       "    'dailySupplySideRevenueUSD': 179380.05830927478,\n",
       "    'cumulativeProtocolSideRevenueUSD': 0.0,\n",
       "    'dailyTotalRevenueUSD': 179380.05830927478,\n",
       "    'dailyVolumeUSD': 358760116.6185495,\n",
       "    'cumulativeVolumeUSD': 360689575362.5697,\n",
       "    'outputTokenSupply': None,\n",
       "    'outputTokenPriceUSD': None,\n",
       "    'stakedOutputTokenAmount': None,\n",
       "    'inputTokenBalances': [160512715075949, 78416545460825128325404],\n",
       "    'inputTokenWeights': [50.0, 50.0],\n",
       "    'rewardTokenEmissionsAmount': None,\n",
       "    'rewardTokenEmissionsUSD': None,\n",
       "    'dailyVolumeByTokenAmount': [358580356933146, 178498821846533600272708],\n",
       "    'dailyVolumeByTokenUSD': [358580356.933146, 358939876.3039531],\n",
       "    'protocol': {'cumulativeProtocolSideRevenueUSD': 0.0,\n",
       "     'cumulativeSupplySideRevenueUSD': 1328023375.4686334,\n",
       "     'cumulativeTotalRevenueUSD': 1328023375.4686334,\n",
       "     'protocolControlledValueUSD': None,\n",
       "     'totalPoolCount': 11024,\n",
       "     'totalValueLockedUSD': 3.511e+24},\n",
       "    'pool': {'name': 'Uniswap V3 USD Coin/Wrapped Ether 0.05%',\n",
       "     'outputToken': None},\n",
       "    'timestamp': '1681938863'}]}]"
      ]
     },
     "execution_count": 12,
     "metadata": {},
     "output_type": "execute_result"
    }
   ],
   "source": [
    "# Query the liquidity pool daily snapshots with specified filter criteria\n",
    "lp = uni.Query.liquidityPoolDailySnapshots(\n",
    "    first=1,\n",
    "    orderBy=uni.LiquidityPoolDailySnapshot.timestamp,\n",
    "    orderDirection='desc',\n",
    "    where=[uni.LiquidityPoolDailySnapshot.pool == '0x88e6a0c2ddd26feeb64f039a2c41296fcb3f5640']\n",
    ")\n",
    "\n",
    "# Query multiple fields from the resulting data and store in a JSON object\n",
    "res4 = sg.query_json([\n",
    "    lp.id,\n",
    "    lp.pool.name,\n",
    "    lp.blockNumber,\n",
    "    lp.totalValueLockedUSD,\n",
    "    lp.cumulativeSupplySideRevenueUSD,\n",
    "    lp.dailySupplySideRevenueUSD,\n",
    "    lp.cumulativeProtocolSideRevenueUSD,\n",
    "    lp.dailyTotalRevenueUSD,\n",
    "    lp.dailyVolumeUSD,\n",
    "    lp.cumulativeVolumeUSD,\n",
    "    lp.outputTokenSupply,\n",
    "    lp.outputTokenPriceUSD,\n",
    "    lp.stakedOutputTokenAmount,\n",
    "    lp.inputTokenBalances,\n",
    "    lp.inputTokenWeights,\n",
    "    lp.rewardTokenEmissionsAmount,\n",
    "    lp.rewardTokenEmissionsUSD,\n",
    "    lp.dailyVolumeByTokenAmount,\n",
    "    lp.dailyVolumeByTokenUSD,\n",
    "    lp.protocol.cumulativeProtocolSideRevenueUSD,\n",
    "    lp.protocol.cumulativeSupplySideRevenueUSD,\n",
    "    lp.protocol.cumulativeTotalRevenueUSD,\n",
    "    lp.protocol.protocolControlledValueUSD,\n",
    "    lp.protocol.totalPoolCount,\n",
    "    lp.protocol.totalValueLockedUSD,\n",
    "    lp.pool.outputToken.lastPriceUSD,\n",
    "    lp.pool.outputToken.name,\n",
    "])\n",
    "\n",
    "# Print the resulting JSON object\n",
    "res4\n"
   ]
  },
  {
   "cell_type": "code",
   "execution_count": null,
   "metadata": {},
   "outputs": [],
   "source": []
  }
 ],
 "metadata": {
  "kernelspec": {
   "display_name": "Python 3.10.2 ('.venv': venv)",
   "language": "python",
   "name": "python3"
  },
  "language_info": {
   "codemirror_mode": {
    "name": "ipython",
    "version": 3
   },
   "file_extension": ".py",
   "mimetype": "text/x-python",
   "name": "python",
   "nbconvert_exporter": "python",
   "pygments_lexer": "ipython3",
   "version": "3.10.2"
  },
  "orig_nbformat": 4,
  "vscode": {
   "interpreter": {
    "hash": "d7aa3448851527b49d354d2668c681954f35847c838496ed479518c3ebc0d768"
   }
  }
 },
 "nbformat": 4,
 "nbformat_minor": 2
}
