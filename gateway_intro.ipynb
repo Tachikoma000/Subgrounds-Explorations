{
 "cells": [
  {
   "cell_type": "markdown",
   "metadata": {},
   "source": [
    "Introduce getting started with Gateway to:\n",
    "1. Create new account and log in to Playgrounds App\n",
    "2. Walkthrough the app homepage\n",
    "3. Show how to generate Playgrounds Proxy Api Key\n",
    "4. Show how to load Playgrounds Proxy Api Key into Subgrounds\n",
    "5. Copy Aave v3 subgraph id and load it into Subgrounds\n",
    "6. Perform basic query on Aave v3 subgraph, showcasing we are querying decentralized subgraph"
   ]
  },
  {
   "cell_type": "markdown",
   "metadata": {},
   "source": [
    "## Gateway setup and basics\n",
    "\n",
    "To query a decentralized network subgraph with id subgraph-id, \n",
    "you can make a POST request to the Playgrounds proxy endpoint:\n",
    "\n",
    "`https://api.playgrounds.network/v1/proxy/subgraphs/id/[subgraph-id]`\n",
    "\n",
    "The POST request itself will have to contain the Playgrounds API key you generated earlier as the value of the Playgrounds-Api-Token header. The rest of the request will be the same as the request you would usually make to the Graph's decentralized network. \n",
    "\n",
    "Let's try an example of Playgrounds Gateway request sent using curl in terminal!\n",
    "\n",
    "```curl https://api.playgrounds.network/v1/proxy/subgraphs/id/ELUcwgpm14LKPLrBRuVvPvNKHQ9HvwmtKgKSH6123cr7 \\\n",
    "    -H 'Content-Type: application/json' \\\n",
    "    -H 'Playgrounds-Api-Key: PG_API_KEY' \\\n",
    "    -d '{\"query\":\"{protocols {id}}\"}'```\n",
    "\n",
    "The endpoint mirrors the Graph decentralized network gateway endpoint:\n",
    "\n",
    "`https://gateway.thegraph.com/api/[api-key]/subgraphs/id/[subgraph-id]`\n",
    "\n",
    "Key difference is the API key is not part of the URL\n",
    "\n",
    "`https://api.playgrounds.network/v1/proxy/subgraphs/id/[subgraph-id]`\n"
   ]
  },
  {
   "cell_type": "code",
   "execution_count": null,
   "metadata": {},
   "outputs": [],
   "source": [
    "# Import subgrounds\n",
    "from subgrounds import Subgrounds\n",
    "\n",
    "# Instantiate subgrounds and insert Playgrounds API key into header\n",
    "sg = Subgrounds.from_pg_key(\"pg-AqAFS8G3TN3Kagdgw2MrGjFvDGUgxImS\")\n",
    "\n",
    "# Insert desired subgraph id from decentralized subgraph. Find in subgraph url\n",
    "uniswap_id = \"ELUcwgpm14LKPLrBRuVvPvNKHQ9HvwmtKgKSH6123cr7\""
   ]
  },
  {
   "cell_type": "code",
   "execution_count": null,
   "metadata": {},
   "outputs": [],
   "source": [
    "subgraph = sg.load_subgraph(\n",
    "    f\"https://api.playgrounds.network/v1/proxy/subgraphs/id/{uniswap_id}\")\n",
    "\n",
    "sg.query_df([\n",
    "    subgraph.Query.tokens.id,\n",
    "    subgraph.Query.tokens.symbol,\n",
    "])"
   ]
  }
 ],
 "metadata": {
  "kernelspec": {
   "display_name": "Python 3.10.2 ('subgroundsEnv': venv)",
   "language": "python",
   "name": "python3"
  },
  "language_info": {
   "codemirror_mode": {
    "name": "ipython",
    "version": 3
   },
   "file_extension": ".py",
   "mimetype": "text/x-python",
   "name": "python",
   "nbconvert_exporter": "python",
   "pygments_lexer": "ipython3",
   "version": "3.10.2"
  },
  "orig_nbformat": 4,
  "vscode": {
   "interpreter": {
    "hash": "5e01dad8a87569d700bc084cc42f01a4560577cc0dcddfd5931e8a480921b22a"
   }
  }
 },
 "nbformat": 4,
 "nbformat_minor": 2
}
