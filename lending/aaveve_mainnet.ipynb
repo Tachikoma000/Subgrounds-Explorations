{
 "cells": [
  {
   "cell_type": "code",
   "execution_count": 3,
   "metadata": {},
   "outputs": [],
   "source": [
    "## Gateway setup\n",
    "\n",
    "# Import subgrounds\n",
    "from subgrounds import Subgrounds\n",
    "\n",
    "# Instantiate subgrounds and insert Playgrounds API key into header\n",
    "sg = Subgrounds.from_pg_key(\"pg-AqAFS8G3TN3Kagdgw2MrGjFvDGUgxImS\")\n",
    "\n",
    "# Insert desired subgraph id from decentralized subgraph. Find in subgraph url\n",
    "aave_v3_id = \"HB1Z2EAw4rtPRYVb2Nz8QGFLHCpym6ByBX6vbCViuE9F\""
   ]
  },
  {
   "cell_type": "code",
   "execution_count": 4,
   "metadata": {},
   "outputs": [],
   "source": [
    "# Load subgraph using playgrounds proxy endpoint \n",
    "aave_v3 = sg.load_subgraph(f\"https://api.playgrounds.network/v1/proxy/subgraphs/id/{aave_v3_id}\")"
   ]
  },
  {
   "cell_type": "code",
   "execution_count": 5,
   "metadata": {},
   "outputs": [],
   "source": [
    "# How to query subgraphs with subgrounds\n",
    "# Subgrounds allows the same arguments as you normally use on graphql\n",
    "\n",
    "usage_metrics_daily = aave_v3.Query.usageMetricsDailySnapshots(\n",
    "    first = 10,\n",
    "    orderDirection = 'desc'\n",
    ")\n",
    "\n",
    "q_df_ex = sg.query_df([\n",
    "    usage_metrics_daily.timestamp,\n",
    "    usage_metrics_daily.dailyActiveBorrowers,\n",
    "    usage_metrics_daily.dailyActiveDepositors,\n",
    "])"
   ]
  },
  {
   "cell_type": "code",
   "execution_count": null,
   "metadata": {},
   "outputs": [],
   "source": [
    "q_df_ex"
   ]
  }
 ],
 "metadata": {
  "kernelspec": {
   "display_name": "Python 3.10.2 ('subgroundsEnv': venv)",
   "language": "python",
   "name": "python3"
  },
  "language_info": {
   "codemirror_mode": {
    "name": "ipython",
    "version": 3
   },
   "file_extension": ".py",
   "mimetype": "text/x-python",
   "name": "python",
   "nbconvert_exporter": "python",
   "pygments_lexer": "ipython3",
   "version": "3.10.2"
  },
  "orig_nbformat": 4,
  "vscode": {
   "interpreter": {
    "hash": "5e01dad8a87569d700bc084cc42f01a4560577cc0dcddfd5931e8a480921b22a"
   }
  }
 },
 "nbformat": 4,
 "nbformat_minor": 2
}
