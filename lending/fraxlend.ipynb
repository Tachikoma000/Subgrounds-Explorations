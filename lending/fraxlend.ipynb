{
 "cells": [
  {
   "cell_type": "code",
   "execution_count": 1,
   "metadata": {},
   "outputs": [],
   "source": [
    "## Gateway setup\n",
    "from subgrounds import Subgrounds\n",
    "sg = Subgrounds.from_pg_key(\"PGA_API_KEY\")\n",
    "subgraph_id = \"GELTrjPJYEzxyp6Y2CtEaYpGHcJNrJA6i5Ci4KfJSEsf\""
   ]
  },
  {
   "cell_type": "code",
   "execution_count": 2,
   "metadata": {},
   "outputs": [],
   "source": [
    "fraxlend_subgraph = sg.load_subgraph(f\"https://api.playgrounds.network/v1/proxy/subgraphs/id/{subgraph_id}\")"
   ]
  },
  {
   "cell_type": "code",
   "execution_count": 3,
   "metadata": {},
   "outputs": [
    {
     "data": {
      "text/html": [
       "<div>\n",
       "<style scoped>\n",
       "    .dataframe tbody tr th:only-of-type {\n",
       "        vertical-align: middle;\n",
       "    }\n",
       "\n",
       "    .dataframe tbody tr th {\n",
       "        vertical-align: top;\n",
       "    }\n",
       "\n",
       "    .dataframe thead th {\n",
       "        text-align: right;\n",
       "    }\n",
       "</style>\n",
       "<table border=\"1\" class=\"dataframe\">\n",
       "  <thead>\n",
       "    <tr style=\"text-align: right;\">\n",
       "      <th></th>\n",
       "      <th>fraxlendFactories_id</th>\n",
       "      <th>fraxlendFactories_totalTVLValue</th>\n",
       "      <th>fraxlendFactories_totalBorrowedValue</th>\n",
       "      <th>fraxlendFactories_totalCollateralLockedValue</th>\n",
       "      <th>fraxlendFactories_positionCount</th>\n",
       "      <th>fraxlendFactories_pairCount</th>\n",
       "      <th>fraxlendFactories_assetTokenCount</th>\n",
       "      <th>fraxlendFactories_collateralTokenCount</th>\n",
       "    </tr>\n",
       "  </thead>\n",
       "  <tbody>\n",
       "    <tr>\n",
       "      <th>0</th>\n",
       "      <td>0x5d6e79Bcf90140585CE88c7119b7E43CAaA67044</td>\n",
       "      <td>5.092916e+07</td>\n",
       "      <td>3.223116e+07</td>\n",
       "      <td>6.500971e+07</td>\n",
       "      <td>0</td>\n",
       "      <td>12</td>\n",
       "      <td>1</td>\n",
       "      <td>0</td>\n",
       "    </tr>\n",
       "  </tbody>\n",
       "</table>\n",
       "</div>"
      ],
      "text/plain": [
       "                         fraxlendFactories_id  \\\n",
       "0  0x5d6e79Bcf90140585CE88c7119b7E43CAaA67044   \n",
       "\n",
       "   fraxlendFactories_totalTVLValue  fraxlendFactories_totalBorrowedValue  \\\n",
       "0                     5.092916e+07                          3.223116e+07   \n",
       "\n",
       "   fraxlendFactories_totalCollateralLockedValue  \\\n",
       "0                                  6.500971e+07   \n",
       "\n",
       "   fraxlendFactories_positionCount  fraxlendFactories_pairCount  \\\n",
       "0                                0                           12   \n",
       "\n",
       "   fraxlendFactories_assetTokenCount  fraxlendFactories_collateralTokenCount  \n",
       "0                                  1                                       0  "
      ]
     },
     "execution_count": 3,
     "metadata": {},
     "output_type": "execute_result"
    }
   ],
   "source": [
    "fraxlendFactories = fraxlend_subgraph.Query.fraxlendFactories()\n",
    "fraxlend_overview = sg.query_df([\n",
    "    fraxlendFactories.id,\n",
    "    fraxlendFactories.totalTVLValue,\n",
    "    fraxlendFactories.totalBorrowedValue,\n",
    "    fraxlendFactories.totalCollateralLockedValue,\n",
    "    fraxlendFactories.positionCount,\n",
    "    fraxlendFactories.pairCount,\n",
    "    fraxlendFactories.assetTokenCount,\n",
    "    fraxlendFactories.collateralTokenCount, \n",
    "])\n",
    "fraxlend_overview.head()"
   ]
  },
  {
   "cell_type": "code",
   "execution_count": 4,
   "metadata": {},
   "outputs": [],
   "source": [
    "users = fraxlend_subgraph.Query.users(\n",
    "    first = 10\n",
    ")\n",
    "user_metrics = sg.query_df([\n",
    "    users.address,\n",
    "    users.id,\n",
    "])"
   ]
  },
  {
   "cell_type": "code",
   "execution_count": 5,
   "metadata": {},
   "outputs": [],
   "source": [
    "positions = users.positions(\n",
    "    first =10\n",
    ")\n",
    "position_metrics = sg.query_df([\n",
    "    positions.block,\n",
    "    positions.timestamp,\n",
    "    positions.id,\n",
    "    positions.borrowedAssetShare,\n",
    "    positions.depositedCollateralAmount,\n",
    "    positions.lentAssetShare,\n",
    "])"
   ]
  },
  {
   "cell_type": "code",
   "execution_count": 6,
   "metadata": {},
   "outputs": [],
   "source": [
    "pairs = fraxlend_subgraph.Query.pairs(\n",
    "    first = 10\n",
    ")\n",
    "pairs_metrics = sg.query_df([\n",
    "    pairs.address,\n",
    "    # pairs.borrowerWhitelistActive,\n",
    "    pairs.id,\n",
    "    # pairs.lenderWhitelistActive,\n",
    "    # pairs.liquidationFee,\n",
    "    # pairs.maturity,\n",
    "    # pairs.maxLTV,\n",
    "    # pairs.name,\n",
    "    # pairs.symbol,\n",
    "    # pairs.collateral,\n",
    "    pairs.dailyHistory(first = 10),\n",
    "])"
   ]
  }
 ],
 "metadata": {
  "kernelspec": {
   "display_name": "Python 3.10.2 ('subgroundsEnv': venv)",
   "language": "python",
   "name": "python3"
  },
  "language_info": {
   "codemirror_mode": {
    "name": "ipython",
    "version": 3
   },
   "file_extension": ".py",
   "mimetype": "text/x-python",
   "name": "python",
   "nbconvert_exporter": "python",
   "pygments_lexer": "ipython3",
   "version": "3.10.2"
  },
  "orig_nbformat": 4,
  "vscode": {
   "interpreter": {
    "hash": "5e01dad8a87569d700bc084cc42f01a4560577cc0dcddfd5931e8a480921b22a"
   }
  }
 },
 "nbformat": 4,
 "nbformat_minor": 2
}
