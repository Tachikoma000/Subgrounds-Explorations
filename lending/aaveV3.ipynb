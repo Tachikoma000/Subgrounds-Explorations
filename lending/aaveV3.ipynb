{
 "cells": [
  {
   "cell_type": "markdown",
   "metadata": {},
   "source": [
    "# AAVE v3 Mainnet\n",
    "\n",
    "**What is Aave?**\n",
    "\n",
    "Aave is a decentralized finance protocol that allows people to lend and borrow cryptocurrencies. \n",
    "Lenders earn interest by depositing digital assets into specially created liquidity pools. Borrowers can then use their crypto as collateral to take out a flash loan using this liquidity.\n",
    "\n",
    "**What does this example cover?**\n",
    "\n",
    "In this example, we utilize the Subgrounds library to interact with the AAVE v3 Ethereum subgraph and fetch data related to its various usage metrics and lending protocols. This example explains how to load a subgraph, query it, handle and transform the data returned, and even visualize it. The detailed breakdown is as follows:\n",
    "\n",
    "- Importing Libraries: The subgrounds library is imported for handling decentralized subgraphs, and pandas is used for handling data manipulation.\n",
    "\n",
    "- Subgrounds Initialization: A Subgrounds object is instantiated using the `Playgrounds API key`.\n",
    "\n",
    "- Loading AAVE v3 Subgraph: The AAVE v3 subgraph is loaded by passing its ID to a URL string and calling `sg.load_subgraph()`.\n",
    "\n",
    "- Querying Subgraph: A `UsageMetricsDailySnapshot` query is performed on the subgraph, where the first 10 entries are fetched in descending order.\n",
    "\n",
    "- Data Extraction: The extracted data, including `timestamp`, `daily active borrowers`, and `daily active depositors`, are fetched into a DataFrame using `sg.query_df()`.\n",
    "\n",
    "- Converting Timestamps: Two methods are demonstrated for converting timestamp data to a more human-readable format using the `SyntheticField` object and the `datetime.fromtimestamp()` function.\n",
    "\n",
    "- Querying Lending Protocols: Queries are performed on the `lendingProtocols` entity of the AAVE v3 subgraph, fetching all fields and specific fields. The returned data are then fetched into a DataFrame.\n",
    "\n",
    "- SyntheticField for Custom Metrics: SyntheticField objects are created to calculate custom metrics, such as the `borrow-deposit ratio`, `user engagement metrics` for borrowed funds, and average values for borrow, deposit, and liquidation per user.\n",
    "\n",
    "- Fetching Market Daily Snapshots: Queries are performed on the marketDailySnapshots entity of the subgraph, fetching specific market rates, converting timestamps, and restructuring the DataFrame using the pivot() function.\n",
    "\n",
    "- Data Visualization: The data are plotted using plotly, showcasing interest rates over time and daily active users against datetime.\n",
    "\n",
    "In conclusion, this code snippet effectively demonstrates how to utilize the Subgrounds library to interact with Ethereum subgraphs and process, manipulate, and visualize the extracted data. It's a useful guide for anyone looking to interact with Ethereum subgraphs and create custom metrics for data analysis."
   ]
  },
  {
   "cell_type": "markdown",
   "metadata": {},
   "source": [
    "About AAVE:\n",
    "\n",
    "Aave is a decentralized finance protocol that allows people to lend and borrow cryptocurrencies. \n",
    "\n",
    "Lenders earn interest by depositing digital assets into specially created liquidity pools. \n",
    "\n",
    "Borrowers can then use their crypto as collateral to take out a flash loan using this liquidity.\n",
    "\n",
    "Aave V3, introducing important new risk mitigation features and improved capital efficiency\n",
    "\n",
    "V3 was designed with a flexible architecture for increased composability, and made it possible to build a variety of innovative features on top of the protocol such as new risk management tools that provide additional security and stability. \n",
    "\n",
    "Examples include Supply and Borrow Caps and Risk and Listing Admins. Aave V3 also improves capital efficiency and decentralized liquidity while lowering gas fees 25 percent."
   ]
  },
  {
   "cell_type": "code",
   "execution_count": 2,
   "metadata": {},
   "outputs": [],
   "source": [
    "## Playgrounds Gateway setup - visit app.playgrounds.network to get an api key to query decentralized subgraphs\n",
    "\n",
    "# Import subgrounds\n",
    "from subgrounds import Subgrounds\n",
    "\n",
    "# Instantiate subgrounds and insert Playgrounds API key into header\n",
    "sg = Subgrounds.from_pg_key(\"PGA_API_KEY\")\n",
    "\n",
    "# Insert desired subgraph id from decentralized subgraph. Find in subgraph url\n",
    "aave_v3_id = \"SUBGRAPH_ID\""
   ]
  },
  {
   "cell_type": "code",
   "execution_count": 3,
   "metadata": {},
   "outputs": [],
   "source": [
    "# Load subgraph using playgrounds proxy endpoint \n",
    "aave_v3 = sg.load_subgraph(f\"https://api.playgrounds.network/v1/proxy/subgraphs/id/{aave_v3_id}\")"
   ]
  },
  {
   "cell_type": "code",
   "execution_count": 4,
   "metadata": {},
   "outputs": [],
   "source": [
    "# How to query subgraphs with subgrounds\n",
    "# Subgrounds allows the same arguments as you normally use on graphql\n",
    "\n",
    "usage_metrics_daily = aave_v3.Query.usageMetricsDailySnapshots(\n",
    "    first = 10,\n",
    "    orderDirection = 'desc'\n",
    ")\n",
    "\n",
    "q_df_ex = sg.query_df([\n",
    "    usage_metrics_daily.timestamp,\n",
    "    usage_metrics_daily.dailyActiveBorrowers,\n",
    "    usage_metrics_daily.dailyActiveDepositors,\n",
    "])"
   ]
  },
  {
   "cell_type": "code",
   "execution_count": 5,
   "metadata": {},
   "outputs": [
    {
     "data": {
      "text/html": [
       "<div>\n",
       "<style scoped>\n",
       "    .dataframe tbody tr th:only-of-type {\n",
       "        vertical-align: middle;\n",
       "    }\n",
       "\n",
       "    .dataframe tbody tr th {\n",
       "        vertical-align: top;\n",
       "    }\n",
       "\n",
       "    .dataframe thead th {\n",
       "        text-align: right;\n",
       "    }\n",
       "</style>\n",
       "<table border=\"1\" class=\"dataframe\">\n",
       "  <thead>\n",
       "    <tr style=\"text-align: right;\">\n",
       "      <th></th>\n",
       "      <th>usageMetricsDailySnapshots_timestamp</th>\n",
       "      <th>usageMetricsDailySnapshots_dailyActiveBorrowers</th>\n",
       "      <th>usageMetricsDailySnapshots_dailyActiveDepositors</th>\n",
       "    </tr>\n",
       "  </thead>\n",
       "  <tbody>\n",
       "    <tr>\n",
       "      <th>0</th>\n",
       "      <td>1685517179</td>\n",
       "      <td>26</td>\n",
       "      <td>32</td>\n",
       "    </tr>\n",
       "    <tr>\n",
       "      <th>1</th>\n",
       "      <td>1685490923</td>\n",
       "      <td>48</td>\n",
       "      <td>64</td>\n",
       "    </tr>\n",
       "    <tr>\n",
       "      <th>2</th>\n",
       "      <td>1685404727</td>\n",
       "      <td>47</td>\n",
       "      <td>57</td>\n",
       "    </tr>\n",
       "    <tr>\n",
       "      <th>3</th>\n",
       "      <td>1685317403</td>\n",
       "      <td>53</td>\n",
       "      <td>69</td>\n",
       "    </tr>\n",
       "    <tr>\n",
       "      <th>4</th>\n",
       "      <td>1685231063</td>\n",
       "      <td>51</td>\n",
       "      <td>65</td>\n",
       "    </tr>\n",
       "    <tr>\n",
       "      <th>5</th>\n",
       "      <td>1685144063</td>\n",
       "      <td>44</td>\n",
       "      <td>74</td>\n",
       "    </tr>\n",
       "    <tr>\n",
       "      <th>6</th>\n",
       "      <td>1685057351</td>\n",
       "      <td>59</td>\n",
       "      <td>60</td>\n",
       "    </tr>\n",
       "    <tr>\n",
       "      <th>7</th>\n",
       "      <td>1684972751</td>\n",
       "      <td>59</td>\n",
       "      <td>81</td>\n",
       "    </tr>\n",
       "    <tr>\n",
       "      <th>8</th>\n",
       "      <td>1684885859</td>\n",
       "      <td>52</td>\n",
       "      <td>56</td>\n",
       "    </tr>\n",
       "    <tr>\n",
       "      <th>9</th>\n",
       "      <td>1684799987</td>\n",
       "      <td>37</td>\n",
       "      <td>51</td>\n",
       "    </tr>\n",
       "  </tbody>\n",
       "</table>\n",
       "</div>"
      ],
      "text/plain": [
       "   usageMetricsDailySnapshots_timestamp  \\\n",
       "0                            1685517179   \n",
       "1                            1685490923   \n",
       "2                            1685404727   \n",
       "3                            1685317403   \n",
       "4                            1685231063   \n",
       "5                            1685144063   \n",
       "6                            1685057351   \n",
       "7                            1684972751   \n",
       "8                            1684885859   \n",
       "9                            1684799987   \n",
       "\n",
       "   usageMetricsDailySnapshots_dailyActiveBorrowers  \\\n",
       "0                                               26   \n",
       "1                                               48   \n",
       "2                                               47   \n",
       "3                                               53   \n",
       "4                                               51   \n",
       "5                                               44   \n",
       "6                                               59   \n",
       "7                                               59   \n",
       "8                                               52   \n",
       "9                                               37   \n",
       "\n",
       "   usageMetricsDailySnapshots_dailyActiveDepositors  \n",
       "0                                                32  \n",
       "1                                                64  \n",
       "2                                                57  \n",
       "3                                                69  \n",
       "4                                                65  \n",
       "5                                                74  \n",
       "6                                                60  \n",
       "7                                                81  \n",
       "8                                                56  \n",
       "9                                                51  "
      ]
     },
     "execution_count": 5,
     "metadata": {},
     "output_type": "execute_result"
    }
   ],
   "source": [
    "q_df_ex"
   ]
  },
  {
   "cell_type": "code",
   "execution_count": 6,
   "metadata": {},
   "outputs": [
    {
     "data": {
      "text/html": [
       "<div>\n",
       "<style scoped>\n",
       "    .dataframe tbody tr th:only-of-type {\n",
       "        vertical-align: middle;\n",
       "    }\n",
       "\n",
       "    .dataframe tbody tr th {\n",
       "        vertical-align: top;\n",
       "    }\n",
       "\n",
       "    .dataframe thead th {\n",
       "        text-align: right;\n",
       "    }\n",
       "</style>\n",
       "<table border=\"1\" class=\"dataframe\">\n",
       "  <thead>\n",
       "    <tr style=\"text-align: right;\">\n",
       "      <th></th>\n",
       "      <th>usageMetricsDailySnapshots_datetime</th>\n",
       "      <th>usageMetricsDailySnapshots_d_t</th>\n",
       "      <th>usageMetricsDailySnapshots_dailyActiveBorrowers</th>\n",
       "      <th>usageMetricsDailySnapshots_dailyActiveDepositors</th>\n",
       "      <th>usageMetricsDailySnapshots_dailyActiveLiquidatees</th>\n",
       "      <th>usageMetricsDailySnapshots_dailyActiveLiquidators</th>\n",
       "    </tr>\n",
       "  </thead>\n",
       "  <tbody>\n",
       "    <tr>\n",
       "      <th>0</th>\n",
       "      <td>2023-05-31 02:12:59</td>\n",
       "      <td>2023-05-31 02:12:59</td>\n",
       "      <td>26</td>\n",
       "      <td>32</td>\n",
       "      <td>0</td>\n",
       "      <td>0</td>\n",
       "    </tr>\n",
       "    <tr>\n",
       "      <th>1</th>\n",
       "      <td>2023-05-30 18:55:23</td>\n",
       "      <td>2023-05-30 18:55:23</td>\n",
       "      <td>48</td>\n",
       "      <td>64</td>\n",
       "      <td>0</td>\n",
       "      <td>0</td>\n",
       "    </tr>\n",
       "    <tr>\n",
       "      <th>2</th>\n",
       "      <td>2023-05-29 18:58:47</td>\n",
       "      <td>2023-05-29 18:58:47</td>\n",
       "      <td>47</td>\n",
       "      <td>57</td>\n",
       "      <td>0</td>\n",
       "      <td>0</td>\n",
       "    </tr>\n",
       "    <tr>\n",
       "      <th>3</th>\n",
       "      <td>2023-05-28 18:43:23</td>\n",
       "      <td>2023-05-28 18:43:23</td>\n",
       "      <td>53</td>\n",
       "      <td>69</td>\n",
       "      <td>0</td>\n",
       "      <td>0</td>\n",
       "    </tr>\n",
       "    <tr>\n",
       "      <th>4</th>\n",
       "      <td>2023-05-27 18:44:23</td>\n",
       "      <td>2023-05-27 18:44:23</td>\n",
       "      <td>51</td>\n",
       "      <td>65</td>\n",
       "      <td>0</td>\n",
       "      <td>0</td>\n",
       "    </tr>\n",
       "    <tr>\n",
       "      <th>...</th>\n",
       "      <td>...</td>\n",
       "      <td>...</td>\n",
       "      <td>...</td>\n",
       "      <td>...</td>\n",
       "      <td>...</td>\n",
       "      <td>...</td>\n",
       "    </tr>\n",
       "    <tr>\n",
       "      <th>95</th>\n",
       "      <td>2023-02-25 17:58:23</td>\n",
       "      <td>2023-02-25 17:58:23</td>\n",
       "      <td>52</td>\n",
       "      <td>94</td>\n",
       "      <td>0</td>\n",
       "      <td>0</td>\n",
       "    </tr>\n",
       "    <tr>\n",
       "      <th>96</th>\n",
       "      <td>2023-02-24 16:59:35</td>\n",
       "      <td>2023-02-24 16:59:35</td>\n",
       "      <td>54</td>\n",
       "      <td>77</td>\n",
       "      <td>0</td>\n",
       "      <td>0</td>\n",
       "    </tr>\n",
       "    <tr>\n",
       "      <th>97</th>\n",
       "      <td>2023-02-23 17:40:47</td>\n",
       "      <td>2023-02-23 17:40:47</td>\n",
       "      <td>54</td>\n",
       "      <td>71</td>\n",
       "      <td>0</td>\n",
       "      <td>0</td>\n",
       "    </tr>\n",
       "    <tr>\n",
       "      <th>98</th>\n",
       "      <td>2023-02-22 17:44:23</td>\n",
       "      <td>2023-02-22 17:44:23</td>\n",
       "      <td>41</td>\n",
       "      <td>78</td>\n",
       "      <td>0</td>\n",
       "      <td>0</td>\n",
       "    </tr>\n",
       "    <tr>\n",
       "      <th>99</th>\n",
       "      <td>2023-02-21 17:59:11</td>\n",
       "      <td>2023-02-21 17:59:11</td>\n",
       "      <td>52</td>\n",
       "      <td>93</td>\n",
       "      <td>0</td>\n",
       "      <td>0</td>\n",
       "    </tr>\n",
       "  </tbody>\n",
       "</table>\n",
       "<p>100 rows × 6 columns</p>\n",
       "</div>"
      ],
      "text/plain": [
       "   usageMetricsDailySnapshots_datetime usageMetricsDailySnapshots_d_t  \\\n",
       "0                  2023-05-31 02:12:59            2023-05-31 02:12:59   \n",
       "1                  2023-05-30 18:55:23            2023-05-30 18:55:23   \n",
       "2                  2023-05-29 18:58:47            2023-05-29 18:58:47   \n",
       "3                  2023-05-28 18:43:23            2023-05-28 18:43:23   \n",
       "4                  2023-05-27 18:44:23            2023-05-27 18:44:23   \n",
       "..                                 ...                            ...   \n",
       "95                 2023-02-25 17:58:23            2023-02-25 17:58:23   \n",
       "96                 2023-02-24 16:59:35            2023-02-24 16:59:35   \n",
       "97                 2023-02-23 17:40:47            2023-02-23 17:40:47   \n",
       "98                 2023-02-22 17:44:23            2023-02-22 17:44:23   \n",
       "99                 2023-02-21 17:59:11            2023-02-21 17:59:11   \n",
       "\n",
       "    usageMetricsDailySnapshots_dailyActiveBorrowers  \\\n",
       "0                                                26   \n",
       "1                                                48   \n",
       "2                                                47   \n",
       "3                                                53   \n",
       "4                                                51   \n",
       "..                                              ...   \n",
       "95                                               52   \n",
       "96                                               54   \n",
       "97                                               54   \n",
       "98                                               41   \n",
       "99                                               52   \n",
       "\n",
       "    usageMetricsDailySnapshots_dailyActiveDepositors  \\\n",
       "0                                                 32   \n",
       "1                                                 64   \n",
       "2                                                 57   \n",
       "3                                                 69   \n",
       "4                                                 65   \n",
       "..                                               ...   \n",
       "95                                                94   \n",
       "96                                                77   \n",
       "97                                                71   \n",
       "98                                                78   \n",
       "99                                                93   \n",
       "\n",
       "    usageMetricsDailySnapshots_dailyActiveLiquidatees  \\\n",
       "0                                                   0   \n",
       "1                                                   0   \n",
       "2                                                   0   \n",
       "3                                                   0   \n",
       "4                                                   0   \n",
       "..                                                ...   \n",
       "95                                                  0   \n",
       "96                                                  0   \n",
       "97                                                  0   \n",
       "98                                                  0   \n",
       "99                                                  0   \n",
       "\n",
       "    usageMetricsDailySnapshots_dailyActiveLiquidators  \n",
       "0                                                   0  \n",
       "1                                                   0  \n",
       "2                                                   0  \n",
       "3                                                   0  \n",
       "4                                                   0  \n",
       "..                                                ...  \n",
       "95                                                  0  \n",
       "96                                                  0  \n",
       "97                                                  0  \n",
       "98                                                  0  \n",
       "99                                                  0  \n",
       "\n",
       "[100 rows x 6 columns]"
      ]
     },
     "execution_count": 6,
     "metadata": {},
     "output_type": "execute_result"
    }
   ],
   "source": [
    "from subgrounds.subgraph import SyntheticField\n",
    "from datetime import datetime\n",
    "\n",
    "usage_metrics_daily = aave_v3.UsageMetricsDailySnapshot\n",
    "\n",
    "# Method 1\n",
    "usage_metrics_daily.d_t = SyntheticField(\n",
    "    f=lambda timestamp: str(datetime.fromtimestamp(timestamp)),\n",
    "    type_=SyntheticField.STRING,\n",
    "    deps=usage_metrics_daily.timestamp,\n",
    ")\n",
    "\n",
    "# Method 2: This helper constructor makes it easy to convert timestamps into datetime objects.\n",
    "usage_metrics_daily.datetime = SyntheticField.datetime_of_timestamp(usage_metrics_daily.timestamp)\n",
    "\n",
    "usage_metrics_daily = aave_v3.Query.usageMetricsDailySnapshots(\n",
    "    first = 100,\n",
    "    orderDirection = 'desc'\n",
    ")\n",
    "\n",
    "sg.query_df([\n",
    "    usage_metrics_daily.datetime,\n",
    "    usage_metrics_daily.d_t,\n",
    "    usage_metrics_daily.dailyActiveBorrowers,\n",
    "    usage_metrics_daily.dailyActiveDepositors,\n",
    "    usage_metrics_daily.dailyActiveLiquidatees,\n",
    "    usage_metrics_daily.dailyActiveLiquidators,\n",
    "])"
   ]
  },
  {
   "cell_type": "markdown",
   "metadata": {},
   "source": [
    "Let's play with synthetic fields some more and create some interesting transformations. That we can query as if regular GraphQL fields. \n",
    "\n",
    "SyntheticFields can created using the constructor, allowing for much more complex transformations."
   ]
  },
  {
   "cell_type": "code",
   "execution_count": 7,
   "metadata": {},
   "outputs": [
    {
     "data": {
      "text/plain": [
       "lendingProtocols_id                                  0xbaa999ac55eace41ccae355c77809e68bb345170\n",
       "lendingProtocols_name                                                                   Aave v3\n",
       "lendingProtocols_slug                                                                   aave-v3\n",
       "lendingProtocols_schemaVersion                                                            2.0.1\n",
       "lendingProtocols_subgraphVersion                                                          1.1.0\n",
       "lendingProtocols_methodologyVersion                                                       1.0.1\n",
       "lendingProtocols_network                                                                MAINNET\n",
       "lendingProtocols_type                                                                   LENDING\n",
       "lendingProtocols_lendingType                                                             POOLED\n",
       "lendingProtocols_riskType                                                              ISOLATED\n",
       "lendingProtocols_cumulativeUniqueUsers                                                     7537\n",
       "lendingProtocols_cumulativeUniqueDepositors                                                7428\n",
       "lendingProtocols_cumulativeUniqueBorrowers                                                 3637\n",
       "lendingProtocols_cumulativeUniqueLiquidators                                                 13\n",
       "lendingProtocols_cumulativeUniqueLiquidatees                                                 37\n",
       "lendingProtocols_totalValueLockedUSD                                          1463441773.454821\n",
       "lendingProtocols_protocolControlledValueUSD                                                None\n",
       "lendingProtocols_cumulativeSupplySideRevenueUSD                                  3033007.248703\n",
       "lendingProtocols_cumulativeProtocolSideRevenueUSD                                 457392.021437\n",
       "lendingProtocols_cumulativeTotalRevenueUSD                                        3490399.27014\n",
       "lendingProtocols_totalDepositBalanceUSD                                       1463441773.454821\n",
       "lendingProtocols_cumulativeDepositUSD                                         4268369718.607094\n",
       "lendingProtocols_totalBorrowBalanceUSD                                         559004617.912032\n",
       "lendingProtocols_cumulativeBorrowUSD                                          3136236771.037705\n",
       "lendingProtocols_cumulativeLiquidateUSD                                           504376.008139\n",
       "lendingProtocols_totalPoolCount                                                              17\n",
       "lendingProtocols_openPositionCount                                                         9847\n",
       "lendingProtocols_cumulativePositionCount                                                  19981\n",
       "lendingProtocols__priceOracle                        0x54586be62e3c3580375ae3723c145253060ca0c2\n",
       "Name: 0, dtype: object"
      ]
     },
     "execution_count": 7,
     "metadata": {},
     "output_type": "execute_result"
    }
   ],
   "source": [
    "\n",
    "# Query lending protocols entitty and fields from subgraph\n",
    "# Here we are querying all of the fields in the lending protocols\n",
    "\n",
    "aave_lending = aave_v3.Query.lendingProtocols()\n",
    "aave_overview = sg.query_df(aave_lending)\n",
    "aave_overview.squeeze()"
   ]
  },
  {
   "cell_type": "code",
   "execution_count": 8,
   "metadata": {},
   "outputs": [
    {
     "data": {
      "text/plain": [
       "lendingProtocols_name                                          Aave v3\n",
       "lendingProtocols_type                                          LENDING\n",
       "lendingProtocols_cumulativeBorrowUSD                 3136236771.037705\n",
       "lendingProtocols_cumulativeDepositUSD                4268369718.607094\n",
       "lendingProtocols_cumulativeLiquidateUSD                  504376.008139\n",
       "lendingProtocols_cumulativePositionCount                         19981\n",
       "lendingProtocols_cumulativeProtocolSideRevenueUSD        457392.021437\n",
       "lendingProtocols_cumulativeSupplySideRevenueUSD         3033007.248703\n",
       "lendingProtocols_cumulativeTotalRevenueUSD               3490399.27014\n",
       "lendingProtocols_cumulativeUniqueUsers                            7537\n",
       "lendingProtocols_cumulativeUniqueBorrowers                        3637\n",
       "lendingProtocols_cumulativeUniqueDepositors                       7428\n",
       "lendingProtocols_cumulativeUniqueLiquidatees                        37\n",
       "lendingProtocols_cumulativeUniqueLiquidators                        13\n",
       "Name: 0, dtype: object"
      ]
     },
     "execution_count": 8,
     "metadata": {},
     "output_type": "execute_result"
    }
   ],
   "source": [
    "# Query lending protocols entitty and specific fields \n",
    "\n",
    "aave_lending = aave_v3.Query.lendingProtocols()\n",
    "aave_overview = sg.query_df([\n",
    "    aave_lending.name,\n",
    "    aave_lending.type,\n",
    "    aave_lending.cumulativeBorrowUSD,\n",
    "    aave_lending.cumulativeDepositUSD,\n",
    "    aave_lending.cumulativeLiquidateUSD,\n",
    "    aave_lending.cumulativePositionCount,\n",
    "    aave_lending.cumulativeProtocolSideRevenueUSD,\n",
    "    aave_lending.cumulativeSupplySideRevenueUSD,\n",
    "    aave_lending.cumulativeTotalRevenueUSD,\n",
    "    aave_lending.cumulativeUniqueUsers,\n",
    "    aave_lending.cumulativeUniqueBorrowers,\n",
    "    aave_lending.cumulativeUniqueDepositors,\n",
    "    aave_lending.cumulativeUniqueLiquidatees,\n",
    "    aave_lending.cumulativeUniqueLiquidators,\n",
    "])\n",
    "aave_overview.squeeze()"
   ]
  },
  {
   "cell_type": "code",
   "execution_count": 9,
   "metadata": {},
   "outputs": [
    {
     "data": {
      "text/plain": [
       "(559004617.9120322, 1463441773.4548209, 0.38197940502433647)"
      ]
     },
     "execution_count": 9,
     "metadata": {},
     "output_type": "execute_result"
    }
   ],
   "source": [
    "from subgrounds.subgraph import SyntheticField\n",
    "\n",
    "# Borrow_Deposit_Ratio: Calculate borrow deposit ratio by dividing the total borrow by the total deposit\n",
    "aave_v3.LendingProtocol.borrow_dep_ratio = SyntheticField(\n",
    "    lambda x, y: x/y,\n",
    "    SyntheticField.FLOAT,\n",
    "    [aave_v3.LendingProtocol.totalBorrowBalanceUSD,\n",
    "    aave_v3.LendingProtocol.totalDepositBalanceUSD],\n",
    ")\n",
    "\n",
    "sg.query([aave_lending.totalBorrowBalanceUSD,\n",
    "          aave_lending.totalDepositBalanceUSD,\n",
    "          aave_lending.borrow_dep_ratio])"
   ]
  },
  {
   "cell_type": "code",
   "execution_count": 10,
   "metadata": {},
   "outputs": [
    {
     "data": {
      "text/html": [
       "<div>\n",
       "<style scoped>\n",
       "    .dataframe tbody tr th:only-of-type {\n",
       "        vertical-align: middle;\n",
       "    }\n",
       "\n",
       "    .dataframe tbody tr th {\n",
       "        vertical-align: top;\n",
       "    }\n",
       "\n",
       "    .dataframe thead th {\n",
       "        text-align: right;\n",
       "    }\n",
       "</style>\n",
       "<table border=\"1\" class=\"dataframe\">\n",
       "  <thead>\n",
       "    <tr style=\"text-align: right;\">\n",
       "      <th></th>\n",
       "      <th>lendingProtocols_cumulativeUniqueBorrowers</th>\n",
       "      <th>lendingProtocols_cumulativeUniqueUsers</th>\n",
       "      <th>lendingProtocols_user_engagement_borrowed</th>\n",
       "    </tr>\n",
       "  </thead>\n",
       "  <tbody>\n",
       "    <tr>\n",
       "      <th>0</th>\n",
       "      <td>3637</td>\n",
       "      <td>7537</td>\n",
       "      <td>0.482553</td>\n",
       "    </tr>\n",
       "  </tbody>\n",
       "</table>\n",
       "</div>"
      ],
      "text/plain": [
       "   lendingProtocols_cumulativeUniqueBorrowers  \\\n",
       "0                                        3637   \n",
       "\n",
       "   lendingProtocols_cumulativeUniqueUsers  \\\n",
       "0                                    7537   \n",
       "\n",
       "   lendingProtocols_user_engagement_borrowed  \n",
       "0                                   0.482553  "
      ]
     },
     "execution_count": 10,
     "metadata": {},
     "output_type": "execute_result"
    }
   ],
   "source": [
    "# User Engagement Metrics: You can calculate the proportion of users who have ever borrowed,\n",
    "# by dividing each of the cumulativeUnique...\n",
    "# fields by cumulativeUniqueUsers\n",
    "\n",
    "aave_v3.LendingProtocol.user_engagement_borrowed = (\n",
    "    abs(aave_v3.LendingProtocol.cumulativeUniqueBorrowers)\n",
    "/abs(aave_v3.LendingProtocol.cumulativeUniqueUsers)\n",
    ")\n",
    "\n",
    "sg.query_df([aave_lending.cumulativeUniqueBorrowers,\n",
    "             aave_lending.cumulativeUniqueUsers,\n",
    "             aave_lending.user_engagement_borrowed])"
   ]
  },
  {
   "cell_type": "code",
   "execution_count": 11,
   "metadata": {},
   "outputs": [
    {
     "data": {
      "text/html": [
       "<div>\n",
       "<style scoped>\n",
       "    .dataframe tbody tr th:only-of-type {\n",
       "        vertical-align: middle;\n",
       "    }\n",
       "\n",
       "    .dataframe tbody tr th {\n",
       "        vertical-align: top;\n",
       "    }\n",
       "\n",
       "    .dataframe thead th {\n",
       "        text-align: right;\n",
       "    }\n",
       "</style>\n",
       "<table border=\"1\" class=\"dataframe\">\n",
       "  <thead>\n",
       "    <tr style=\"text-align: right;\">\n",
       "      <th></th>\n",
       "      <th>lendingProtocols_avg_borrow_per_user</th>\n",
       "      <th>lendingProtocols_avg_deposit_per_user</th>\n",
       "      <th>lendingProtocols_avg_liquidation_per_user</th>\n",
       "    </tr>\n",
       "  </thead>\n",
       "  <tbody>\n",
       "    <tr>\n",
       "      <th>0</th>\n",
       "      <td>862314.207049</td>\n",
       "      <td>574632.433846</td>\n",
       "      <td>13631.784004</td>\n",
       "    </tr>\n",
       "  </tbody>\n",
       "</table>\n",
       "</div>"
      ],
      "text/plain": [
       "   lendingProtocols_avg_borrow_per_user  \\\n",
       "0                         862314.207049   \n",
       "\n",
       "   lendingProtocols_avg_deposit_per_user  \\\n",
       "0                          574632.433846   \n",
       "\n",
       "   lendingProtocols_avg_liquidation_per_user  \n",
       "0                               13631.784004  "
      ]
     },
     "execution_count": 11,
     "metadata": {},
     "output_type": "execute_result"
    }
   ],
   "source": [
    "# Average Borrow, Deposit, and Liquidation Values: cumulativeBorrowUSD divided by cumulativeUniqueBorrowers,\n",
    "# cumulativeDepositUSD divided by cumulativeUniqueDepositors, and cumulativeLiquidateUSD divided by \n",
    "# cumulativeUniqueLiquidatees will give you the average amount borrowed, deposited, and liquidated per user.\n",
    "\n",
    "# Average borrow\n",
    "aave_v3.LendingProtocol.avg_borrow_per_user = SyntheticField(\n",
    "    lambda x, y: x/y,\n",
    "    SyntheticField.FLOAT,\n",
    "    [aave_v3.LendingProtocol.cumulativeBorrowUSD,\n",
    "    aave_v3.LendingProtocol.cumulativeUniqueBorrowers],\n",
    ")\n",
    "\n",
    "# Average deposit\n",
    "aave_v3.LendingProtocol.avg_deposit_per_user = SyntheticField(\n",
    "    lambda x, y: x/y,\n",
    "    SyntheticField.FLOAT,\n",
    "    [aave_v3.LendingProtocol.cumulativeDepositUSD,\n",
    "    aave_v3.LendingProtocol.cumulativeUniqueDepositors],\n",
    ")\n",
    "\n",
    "# Average liqudation per user\n",
    "aave_v3.LendingProtocol.avg_liquidation_per_user = SyntheticField(\n",
    "    lambda x, y: x/y,\n",
    "    SyntheticField.FLOAT,\n",
    "    [aave_v3.LendingProtocol.cumulativeLiquidateUSD,\n",
    "    aave_v3.LendingProtocol.cumulativeUniqueLiquidatees],\n",
    ")\n",
    "\n",
    "sg.query_df([aave_lending.avg_borrow_per_user,\n",
    "          aave_lending.avg_deposit_per_user,\n",
    "          aave_lending.avg_liquidation_per_user])"
   ]
  },
  {
   "cell_type": "code",
   "execution_count": 12,
   "metadata": {},
   "outputs": [
    {
     "data": {
      "text/html": [
       "<div>\n",
       "<style scoped>\n",
       "    .dataframe tbody tr th:only-of-type {\n",
       "        vertical-align: middle;\n",
       "    }\n",
       "\n",
       "    .dataframe tbody tr th {\n",
       "        vertical-align: top;\n",
       "    }\n",
       "\n",
       "    .dataframe thead th {\n",
       "        text-align: right;\n",
       "    }\n",
       "</style>\n",
       "<table border=\"1\" class=\"dataframe\">\n",
       "  <thead>\n",
       "    <tr style=\"text-align: right;\">\n",
       "      <th>side_type</th>\n",
       "      <th>BORROWER-STABLE</th>\n",
       "      <th>BORROWER-VARIABLE</th>\n",
       "      <th>LENDER-VARIABLE</th>\n",
       "    </tr>\n",
       "    <tr>\n",
       "      <th>marketDailySnapshots_timestamp</th>\n",
       "      <th></th>\n",
       "      <th></th>\n",
       "      <th></th>\n",
       "    </tr>\n",
       "  </thead>\n",
       "  <tbody>\n",
       "    <tr>\n",
       "      <th>2023-02-21 23:59:11</th>\n",
       "      <td>7.856011</td>\n",
       "      <td>0.650513</td>\n",
       "      <td>0.022146</td>\n",
       "    </tr>\n",
       "    <tr>\n",
       "      <th>2023-02-22 23:07:11</th>\n",
       "      <td>7.815310</td>\n",
       "      <td>0.604724</td>\n",
       "      <td>0.018233</td>\n",
       "    </tr>\n",
       "    <tr>\n",
       "      <th>2023-02-23 23:40:47</th>\n",
       "      <td>7.840961</td>\n",
       "      <td>0.633582</td>\n",
       "      <td>0.020658</td>\n",
       "    </tr>\n",
       "    <tr>\n",
       "      <th>2023-02-24 22:51:47</th>\n",
       "      <td>7.862027</td>\n",
       "      <td>0.657281</td>\n",
       "      <td>0.022754</td>\n",
       "    </tr>\n",
       "    <tr>\n",
       "      <th>2023-02-25 23:58:23</th>\n",
       "      <td>7.837791</td>\n",
       "      <td>0.630015</td>\n",
       "      <td>0.020350</td>\n",
       "    </tr>\n",
       "    <tr>\n",
       "      <th>...</th>\n",
       "      <td>...</td>\n",
       "      <td>...</td>\n",
       "      <td>...</td>\n",
       "    </tr>\n",
       "    <tr>\n",
       "      <th>2023-05-27 08:24:59</th>\n",
       "      <td>7.523090</td>\n",
       "      <td>0.275977</td>\n",
       "      <td>0.000609</td>\n",
       "    </tr>\n",
       "    <tr>\n",
       "      <th>2023-05-28 18:39:11</th>\n",
       "      <td>7.543945</td>\n",
       "      <td>0.299438</td>\n",
       "      <td>0.001258</td>\n",
       "    </tr>\n",
       "    <tr>\n",
       "      <th>2023-05-29 22:31:59</th>\n",
       "      <td>7.526172</td>\n",
       "      <td>0.279444</td>\n",
       "      <td>0.000699</td>\n",
       "    </tr>\n",
       "    <tr>\n",
       "      <th>2023-05-30 20:34:23</th>\n",
       "      <td>7.541723</td>\n",
       "      <td>0.296939</td>\n",
       "      <td>0.001185</td>\n",
       "    </tr>\n",
       "    <tr>\n",
       "      <th>2023-05-31 06:16:59</th>\n",
       "      <td>7.541411</td>\n",
       "      <td>0.296587</td>\n",
       "      <td>0.001174</td>\n",
       "    </tr>\n",
       "  </tbody>\n",
       "</table>\n",
       "<p>100 rows × 3 columns</p>\n",
       "</div>"
      ],
      "text/plain": [
       "side_type                       BORROWER-STABLE  BORROWER-VARIABLE  \\\n",
       "marketDailySnapshots_timestamp                                       \n",
       "2023-02-21 23:59:11                    7.856011           0.650513   \n",
       "2023-02-22 23:07:11                    7.815310           0.604724   \n",
       "2023-02-23 23:40:47                    7.840961           0.633582   \n",
       "2023-02-24 22:51:47                    7.862027           0.657281   \n",
       "2023-02-25 23:58:23                    7.837791           0.630015   \n",
       "...                                         ...                ...   \n",
       "2023-05-27 08:24:59                    7.523090           0.275977   \n",
       "2023-05-28 18:39:11                    7.543945           0.299438   \n",
       "2023-05-29 22:31:59                    7.526172           0.279444   \n",
       "2023-05-30 20:34:23                    7.541723           0.296939   \n",
       "2023-05-31 06:16:59                    7.541411           0.296587   \n",
       "\n",
       "side_type                       LENDER-VARIABLE  \n",
       "marketDailySnapshots_timestamp                   \n",
       "2023-02-21 23:59:11                    0.022146  \n",
       "2023-02-22 23:07:11                    0.018233  \n",
       "2023-02-23 23:40:47                    0.020658  \n",
       "2023-02-24 22:51:47                    0.022754  \n",
       "2023-02-25 23:58:23                    0.020350  \n",
       "...                                         ...  \n",
       "2023-05-27 08:24:59                    0.000609  \n",
       "2023-05-28 18:39:11                    0.001258  \n",
       "2023-05-29 22:31:59                    0.000699  \n",
       "2023-05-30 20:34:23                    0.001185  \n",
       "2023-05-31 06:16:59                    0.001174  \n",
       "\n",
       "[100 rows x 3 columns]"
      ]
     },
     "execution_count": 12,
     "metadata": {},
     "output_type": "execute_result"
    }
   ],
   "source": [
    "import pandas as pd\n",
    "steth_market_id = '0x0b925ed163218f6662a35e0f0371ac234f9e9371'\n",
    "\n",
    "snapshots = aave_v3.Query.marketDailySnapshots(\n",
    "    first=100,\n",
    "    orderBy=aave_v3.MarketDailySnapshot.timestamp,\n",
    "    orderDirection='desc',\n",
    "    where={\n",
    "        'market':steth_market_id\n",
    "    }\n",
    ")\n",
    "\n",
    "df = sg.query_df([\n",
    "    snapshots.timestamp,\n",
    "    snapshots.rates.rate,\n",
    "    snapshots.rates.side,\n",
    "    snapshots.rates.type\n",
    "])\n",
    "\n",
    "df['side_type'] = df['marketDailySnapshots_rates_side'] +'-' +  df['marketDailySnapshots_rates_type']\n",
    "df2 = df[['marketDailySnapshots_timestamp', 'marketDailySnapshots_rates_rate', 'side_type']]\n",
    "df2 = df2.pivot(index='marketDailySnapshots_timestamp',columns='side_type').droplevel(level=0, axis=1)\n",
    "df2.index = pd.to_datetime(df2.index, unit='s')\n",
    "df2"
   ]
  },
  {
   "cell_type": "code",
   "execution_count": 13,
   "metadata": {},
   "outputs": [
    {
     "data": {
      "application/vnd.plotly.v1+json": {
       "config": {
        "plotlyServerURL": "https://plot.ly"
       },
       "data": [
        {
         "hovertemplate": "marketDailySnapshots_timestamp=%{x}<br>BORROWER-STABLE=%{y}<extra></extra>",
         "legendgroup": "",
         "line": {
          "color": "#636efa",
          "dash": "solid"
         },
         "marker": {
          "symbol": "circle"
         },
         "mode": "lines",
         "name": "",
         "orientation": "v",
         "showlegend": false,
         "type": "scatter",
         "x": [
          "2023-02-21T23:59:11",
          "2023-02-22T23:07:11",
          "2023-02-23T23:40:47",
          "2023-02-24T22:51:47",
          "2023-02-25T23:58:23",
          "2023-02-26T21:37:59",
          "2023-02-27T23:15:11",
          "2023-02-28T23:53:11",
          "2023-03-01T18:06:59",
          "2023-03-02T22:20:59",
          "2023-03-03T21:49:47",
          "2023-03-04T23:25:59",
          "2023-03-05T22:55:11",
          "2023-03-06T22:23:35",
          "2023-03-07T23:43:11",
          "2023-03-08T22:10:11",
          "2023-03-09T23:17:11",
          "2023-03-10T23:31:59",
          "2023-03-11T23:06:59",
          "2023-03-12T23:52:47",
          "2023-03-13T23:58:59",
          "2023-03-14T23:22:47",
          "2023-03-15T20:58:35",
          "2023-03-16T23:25:59",
          "2023-03-17T19:39:59",
          "2023-03-18T23:09:47",
          "2023-03-19T23:56:23",
          "2023-03-20T21:21:11",
          "2023-03-21T20:09:59",
          "2023-03-22T23:00:59",
          "2023-03-23T23:36:59",
          "2023-03-24T23:27:47",
          "2023-03-25T21:41:23",
          "2023-03-26T22:01:23",
          "2023-03-27T19:16:23",
          "2023-03-28T18:45:11",
          "2023-03-29T23:19:23",
          "2023-03-30T21:29:11",
          "2023-03-31T23:23:35",
          "2023-04-01T19:59:11",
          "2023-04-02T19:26:11",
          "2023-04-03T23:25:59",
          "2023-04-04T23:46:11",
          "2023-04-05T16:05:23",
          "2023-04-06T22:57:11",
          "2023-04-07T22:37:23",
          "2023-04-08T22:23:23",
          "2023-04-09T21:51:35",
          "2023-04-10T22:03:59",
          "2023-04-11T23:48:23",
          "2023-04-12T22:14:47",
          "2023-04-13T23:52:23",
          "2023-04-14T23:27:47",
          "2023-04-15T22:44:23",
          "2023-04-16T22:13:59",
          "2023-04-17T22:34:47",
          "2023-04-18T23:02:47",
          "2023-04-19T21:08:35",
          "2023-04-20T21:03:47",
          "2023-04-21T23:56:35",
          "2023-04-22T23:51:23",
          "2023-04-23T19:36:11",
          "2023-04-24T19:53:11",
          "2023-04-25T21:28:11",
          "2023-04-26T22:47:47",
          "2023-04-27T23:06:47",
          "2023-04-28T21:55:47",
          "2023-04-29T22:05:11",
          "2023-04-30T22:49:23",
          "2023-05-01T20:56:59",
          "2023-05-02T22:06:47",
          "2023-05-03T22:49:23",
          "2023-05-04T16:05:35",
          "2023-05-05T23:17:47",
          "2023-05-06T23:42:59",
          "2023-05-07T22:26:23",
          "2023-05-08T23:53:47",
          "2023-05-09T23:09:35",
          "2023-05-10T18:20:59",
          "2023-05-11T18:19:59",
          "2023-05-12T23:09:47",
          "2023-05-13T23:47:23",
          "2023-05-14T17:36:23",
          "2023-05-15T22:24:35",
          "2023-05-16T16:36:35",
          "2023-05-17T23:06:35",
          "2023-05-18T20:19:11",
          "2023-05-19T23:03:47",
          "2023-05-20T19:16:11",
          "2023-05-21T15:14:35",
          "2023-05-22T15:31:35",
          "2023-05-23T21:59:23",
          "2023-05-24T22:49:59",
          "2023-05-25T01:37:11",
          "2023-05-26T19:01:35",
          "2023-05-27T08:24:59",
          "2023-05-28T18:39:11",
          "2023-05-29T22:31:59",
          "2023-05-30T20:34:23",
          "2023-05-31T06:16:59"
         ],
         "xaxis": "x",
         "y": [
          7.856011476932486,
          7.815309959221124,
          7.840961429968388,
          7.862027497521563,
          7.837790704614703,
          7.827498494849632,
          7.787164980826666,
          7.788375979854277,
          7.789757102829689,
          7.7893198628448275,
          7.7815849254958085,
          7.781951874666933,
          7.78081553091217,
          7.765616787632554,
          7.7546154963194445,
          7.75311887659168,
          7.698645590013603,
          7.698363996874093,
          7.700446852231452,
          7.614326466665363,
          7.545104707425613,
          7.575235111308571,
          7.568743708135861,
          7.575080290942184,
          7.703169278680555,
          7.701677619345636,
          7.700992258198039,
          7.66599108632264,
          7.662100979149657,
          7.660271179033243,
          7.688781040069147,
          7.679514373831257,
          7.6836318837496265,
          7.6808634449081215,
          7.681014072416788,
          7.694742133868909,
          7.691665334231373,
          7.69046324209375,
          7.6876716959134335,
          7.687791929001176,
          7.686362534598727,
          7.676757648358815,
          7.6592987365166065,
          7.6527968787222385,
          7.652433595567963,
          7.6536889812256526,
          7.5580418758863,
          7.554580706815395,
          7.563544201343262,
          7.539731004771646,
          7.538776989313917,
          7.543300582262672,
          7.538042741401398,
          7.53309857648649,
          7.768754881888551,
          7.865936190407712,
          7.860996477798906,
          7.862657914101199,
          7.8640927156701155,
          7.870157880348694,
          7.719535567094192,
          7.720578260180474,
          7.711218710388754,
          7.7022290453427225,
          7.7047085605360035,
          7.585877049659686,
          7.547960626606175,
          7.548773403013758,
          7.547534032915621,
          7.546858427511607,
          7.548351920097547,
          7.5410498969422175,
          7.540012784720244,
          7.53904494959038,
          7.536366939521599,
          7.5378395603749535,
          7.522799790544675,
          7.522076242997213,
          7.520375983468068,
          7.52047535933534,
          7.521020065629974,
          7.520378544432332,
          7.521034168517236,
          7.5174774079129305,
          7.517479194770737,
          7.518440195135973,
          7.518322241592967,
          7.5183245647223504,
          7.518322529711715,
          7.520834991829749,
          7.5097069713872795,
          7.509708535215773,
          7.509709310052413,
          7.509712548942006,
          7.508868499669385,
          7.5230904402817895,
          7.543945233081216,
          7.526172023991442,
          7.541723396147811,
          7.541410713788028
         ],
         "yaxis": "y"
        }
       ],
       "layout": {
        "legend": {
         "tracegroupgap": 0
        },
        "template": {
         "data": {
          "bar": [
           {
            "error_x": {
             "color": "#2a3f5f"
            },
            "error_y": {
             "color": "#2a3f5f"
            },
            "marker": {
             "line": {
              "color": "#E5ECF6",
              "width": 0.5
             },
             "pattern": {
              "fillmode": "overlay",
              "size": 10,
              "solidity": 0.2
             }
            },
            "type": "bar"
           }
          ],
          "barpolar": [
           {
            "marker": {
             "line": {
              "color": "#E5ECF6",
              "width": 0.5
             },
             "pattern": {
              "fillmode": "overlay",
              "size": 10,
              "solidity": 0.2
             }
            },
            "type": "barpolar"
           }
          ],
          "carpet": [
           {
            "aaxis": {
             "endlinecolor": "#2a3f5f",
             "gridcolor": "white",
             "linecolor": "white",
             "minorgridcolor": "white",
             "startlinecolor": "#2a3f5f"
            },
            "baxis": {
             "endlinecolor": "#2a3f5f",
             "gridcolor": "white",
             "linecolor": "white",
             "minorgridcolor": "white",
             "startlinecolor": "#2a3f5f"
            },
            "type": "carpet"
           }
          ],
          "choropleth": [
           {
            "colorbar": {
             "outlinewidth": 0,
             "ticks": ""
            },
            "type": "choropleth"
           }
          ],
          "contour": [
           {
            "colorbar": {
             "outlinewidth": 0,
             "ticks": ""
            },
            "colorscale": [
             [
              0,
              "#0d0887"
             ],
             [
              0.1111111111111111,
              "#46039f"
             ],
             [
              0.2222222222222222,
              "#7201a8"
             ],
             [
              0.3333333333333333,
              "#9c179e"
             ],
             [
              0.4444444444444444,
              "#bd3786"
             ],
             [
              0.5555555555555556,
              "#d8576b"
             ],
             [
              0.6666666666666666,
              "#ed7953"
             ],
             [
              0.7777777777777778,
              "#fb9f3a"
             ],
             [
              0.8888888888888888,
              "#fdca26"
             ],
             [
              1,
              "#f0f921"
             ]
            ],
            "type": "contour"
           }
          ],
          "contourcarpet": [
           {
            "colorbar": {
             "outlinewidth": 0,
             "ticks": ""
            },
            "type": "contourcarpet"
           }
          ],
          "heatmap": [
           {
            "colorbar": {
             "outlinewidth": 0,
             "ticks": ""
            },
            "colorscale": [
             [
              0,
              "#0d0887"
             ],
             [
              0.1111111111111111,
              "#46039f"
             ],
             [
              0.2222222222222222,
              "#7201a8"
             ],
             [
              0.3333333333333333,
              "#9c179e"
             ],
             [
              0.4444444444444444,
              "#bd3786"
             ],
             [
              0.5555555555555556,
              "#d8576b"
             ],
             [
              0.6666666666666666,
              "#ed7953"
             ],
             [
              0.7777777777777778,
              "#fb9f3a"
             ],
             [
              0.8888888888888888,
              "#fdca26"
             ],
             [
              1,
              "#f0f921"
             ]
            ],
            "type": "heatmap"
           }
          ],
          "heatmapgl": [
           {
            "colorbar": {
             "outlinewidth": 0,
             "ticks": ""
            },
            "colorscale": [
             [
              0,
              "#0d0887"
             ],
             [
              0.1111111111111111,
              "#46039f"
             ],
             [
              0.2222222222222222,
              "#7201a8"
             ],
             [
              0.3333333333333333,
              "#9c179e"
             ],
             [
              0.4444444444444444,
              "#bd3786"
             ],
             [
              0.5555555555555556,
              "#d8576b"
             ],
             [
              0.6666666666666666,
              "#ed7953"
             ],
             [
              0.7777777777777778,
              "#fb9f3a"
             ],
             [
              0.8888888888888888,
              "#fdca26"
             ],
             [
              1,
              "#f0f921"
             ]
            ],
            "type": "heatmapgl"
           }
          ],
          "histogram": [
           {
            "marker": {
             "pattern": {
              "fillmode": "overlay",
              "size": 10,
              "solidity": 0.2
             }
            },
            "type": "histogram"
           }
          ],
          "histogram2d": [
           {
            "colorbar": {
             "outlinewidth": 0,
             "ticks": ""
            },
            "colorscale": [
             [
              0,
              "#0d0887"
             ],
             [
              0.1111111111111111,
              "#46039f"
             ],
             [
              0.2222222222222222,
              "#7201a8"
             ],
             [
              0.3333333333333333,
              "#9c179e"
             ],
             [
              0.4444444444444444,
              "#bd3786"
             ],
             [
              0.5555555555555556,
              "#d8576b"
             ],
             [
              0.6666666666666666,
              "#ed7953"
             ],
             [
              0.7777777777777778,
              "#fb9f3a"
             ],
             [
              0.8888888888888888,
              "#fdca26"
             ],
             [
              1,
              "#f0f921"
             ]
            ],
            "type": "histogram2d"
           }
          ],
          "histogram2dcontour": [
           {
            "colorbar": {
             "outlinewidth": 0,
             "ticks": ""
            },
            "colorscale": [
             [
              0,
              "#0d0887"
             ],
             [
              0.1111111111111111,
              "#46039f"
             ],
             [
              0.2222222222222222,
              "#7201a8"
             ],
             [
              0.3333333333333333,
              "#9c179e"
             ],
             [
              0.4444444444444444,
              "#bd3786"
             ],
             [
              0.5555555555555556,
              "#d8576b"
             ],
             [
              0.6666666666666666,
              "#ed7953"
             ],
             [
              0.7777777777777778,
              "#fb9f3a"
             ],
             [
              0.8888888888888888,
              "#fdca26"
             ],
             [
              1,
              "#f0f921"
             ]
            ],
            "type": "histogram2dcontour"
           }
          ],
          "mesh3d": [
           {
            "colorbar": {
             "outlinewidth": 0,
             "ticks": ""
            },
            "type": "mesh3d"
           }
          ],
          "parcoords": [
           {
            "line": {
             "colorbar": {
              "outlinewidth": 0,
              "ticks": ""
             }
            },
            "type": "parcoords"
           }
          ],
          "pie": [
           {
            "automargin": true,
            "type": "pie"
           }
          ],
          "scatter": [
           {
            "fillpattern": {
             "fillmode": "overlay",
             "size": 10,
             "solidity": 0.2
            },
            "type": "scatter"
           }
          ],
          "scatter3d": [
           {
            "line": {
             "colorbar": {
              "outlinewidth": 0,
              "ticks": ""
             }
            },
            "marker": {
             "colorbar": {
              "outlinewidth": 0,
              "ticks": ""
             }
            },
            "type": "scatter3d"
           }
          ],
          "scattercarpet": [
           {
            "marker": {
             "colorbar": {
              "outlinewidth": 0,
              "ticks": ""
             }
            },
            "type": "scattercarpet"
           }
          ],
          "scattergeo": [
           {
            "marker": {
             "colorbar": {
              "outlinewidth": 0,
              "ticks": ""
             }
            },
            "type": "scattergeo"
           }
          ],
          "scattergl": [
           {
            "marker": {
             "colorbar": {
              "outlinewidth": 0,
              "ticks": ""
             }
            },
            "type": "scattergl"
           }
          ],
          "scattermapbox": [
           {
            "marker": {
             "colorbar": {
              "outlinewidth": 0,
              "ticks": ""
             }
            },
            "type": "scattermapbox"
           }
          ],
          "scatterpolar": [
           {
            "marker": {
             "colorbar": {
              "outlinewidth": 0,
              "ticks": ""
             }
            },
            "type": "scatterpolar"
           }
          ],
          "scatterpolargl": [
           {
            "marker": {
             "colorbar": {
              "outlinewidth": 0,
              "ticks": ""
             }
            },
            "type": "scatterpolargl"
           }
          ],
          "scatterternary": [
           {
            "marker": {
             "colorbar": {
              "outlinewidth": 0,
              "ticks": ""
             }
            },
            "type": "scatterternary"
           }
          ],
          "surface": [
           {
            "colorbar": {
             "outlinewidth": 0,
             "ticks": ""
            },
            "colorscale": [
             [
              0,
              "#0d0887"
             ],
             [
              0.1111111111111111,
              "#46039f"
             ],
             [
              0.2222222222222222,
              "#7201a8"
             ],
             [
              0.3333333333333333,
              "#9c179e"
             ],
             [
              0.4444444444444444,
              "#bd3786"
             ],
             [
              0.5555555555555556,
              "#d8576b"
             ],
             [
              0.6666666666666666,
              "#ed7953"
             ],
             [
              0.7777777777777778,
              "#fb9f3a"
             ],
             [
              0.8888888888888888,
              "#fdca26"
             ],
             [
              1,
              "#f0f921"
             ]
            ],
            "type": "surface"
           }
          ],
          "table": [
           {
            "cells": {
             "fill": {
              "color": "#EBF0F8"
             },
             "line": {
              "color": "white"
             }
            },
            "header": {
             "fill": {
              "color": "#C8D4E3"
             },
             "line": {
              "color": "white"
             }
            },
            "type": "table"
           }
          ]
         },
         "layout": {
          "annotationdefaults": {
           "arrowcolor": "#2a3f5f",
           "arrowhead": 0,
           "arrowwidth": 1
          },
          "autotypenumbers": "strict",
          "coloraxis": {
           "colorbar": {
            "outlinewidth": 0,
            "ticks": ""
           }
          },
          "colorscale": {
           "diverging": [
            [
             0,
             "#8e0152"
            ],
            [
             0.1,
             "#c51b7d"
            ],
            [
             0.2,
             "#de77ae"
            ],
            [
             0.3,
             "#f1b6da"
            ],
            [
             0.4,
             "#fde0ef"
            ],
            [
             0.5,
             "#f7f7f7"
            ],
            [
             0.6,
             "#e6f5d0"
            ],
            [
             0.7,
             "#b8e186"
            ],
            [
             0.8,
             "#7fbc41"
            ],
            [
             0.9,
             "#4d9221"
            ],
            [
             1,
             "#276419"
            ]
           ],
           "sequential": [
            [
             0,
             "#0d0887"
            ],
            [
             0.1111111111111111,
             "#46039f"
            ],
            [
             0.2222222222222222,
             "#7201a8"
            ],
            [
             0.3333333333333333,
             "#9c179e"
            ],
            [
             0.4444444444444444,
             "#bd3786"
            ],
            [
             0.5555555555555556,
             "#d8576b"
            ],
            [
             0.6666666666666666,
             "#ed7953"
            ],
            [
             0.7777777777777778,
             "#fb9f3a"
            ],
            [
             0.8888888888888888,
             "#fdca26"
            ],
            [
             1,
             "#f0f921"
            ]
           ],
           "sequentialminus": [
            [
             0,
             "#0d0887"
            ],
            [
             0.1111111111111111,
             "#46039f"
            ],
            [
             0.2222222222222222,
             "#7201a8"
            ],
            [
             0.3333333333333333,
             "#9c179e"
            ],
            [
             0.4444444444444444,
             "#bd3786"
            ],
            [
             0.5555555555555556,
             "#d8576b"
            ],
            [
             0.6666666666666666,
             "#ed7953"
            ],
            [
             0.7777777777777778,
             "#fb9f3a"
            ],
            [
             0.8888888888888888,
             "#fdca26"
            ],
            [
             1,
             "#f0f921"
            ]
           ]
          },
          "colorway": [
           "#636efa",
           "#EF553B",
           "#00cc96",
           "#ab63fa",
           "#FFA15A",
           "#19d3f3",
           "#FF6692",
           "#B6E880",
           "#FF97FF",
           "#FECB52"
          ],
          "font": {
           "color": "#2a3f5f"
          },
          "geo": {
           "bgcolor": "white",
           "lakecolor": "white",
           "landcolor": "#E5ECF6",
           "showlakes": true,
           "showland": true,
           "subunitcolor": "white"
          },
          "hoverlabel": {
           "align": "left"
          },
          "hovermode": "closest",
          "mapbox": {
           "style": "light"
          },
          "paper_bgcolor": "white",
          "plot_bgcolor": "#E5ECF6",
          "polar": {
           "angularaxis": {
            "gridcolor": "white",
            "linecolor": "white",
            "ticks": ""
           },
           "bgcolor": "#E5ECF6",
           "radialaxis": {
            "gridcolor": "white",
            "linecolor": "white",
            "ticks": ""
           }
          },
          "scene": {
           "xaxis": {
            "backgroundcolor": "#E5ECF6",
            "gridcolor": "white",
            "gridwidth": 2,
            "linecolor": "white",
            "showbackground": true,
            "ticks": "",
            "zerolinecolor": "white"
           },
           "yaxis": {
            "backgroundcolor": "#E5ECF6",
            "gridcolor": "white",
            "gridwidth": 2,
            "linecolor": "white",
            "showbackground": true,
            "ticks": "",
            "zerolinecolor": "white"
           },
           "zaxis": {
            "backgroundcolor": "#E5ECF6",
            "gridcolor": "white",
            "gridwidth": 2,
            "linecolor": "white",
            "showbackground": true,
            "ticks": "",
            "zerolinecolor": "white"
           }
          },
          "shapedefaults": {
           "line": {
            "color": "#2a3f5f"
           }
          },
          "ternary": {
           "aaxis": {
            "gridcolor": "white",
            "linecolor": "white",
            "ticks": ""
           },
           "baxis": {
            "gridcolor": "white",
            "linecolor": "white",
            "ticks": ""
           },
           "bgcolor": "#E5ECF6",
           "caxis": {
            "gridcolor": "white",
            "linecolor": "white",
            "ticks": ""
           }
          },
          "title": {
           "x": 0.05
          },
          "xaxis": {
           "automargin": true,
           "gridcolor": "white",
           "linecolor": "white",
           "ticks": "",
           "title": {
            "standoff": 15
           },
           "zerolinecolor": "white",
           "zerolinewidth": 2
          },
          "yaxis": {
           "automargin": true,
           "gridcolor": "white",
           "linecolor": "white",
           "ticks": "",
           "title": {
            "standoff": 15
           },
           "zerolinecolor": "white",
           "zerolinewidth": 2
          }
         }
        },
        "title": {
         "text": "STETH Interest Rates"
        },
        "xaxis": {
         "anchor": "y",
         "domain": [
          0,
          1
         ],
         "title": {
          "text": "marketDailySnapshots_timestamp"
         }
        },
        "yaxis": {
         "anchor": "x",
         "domain": [
          0,
          1
         ],
         "title": {
          "text": "BORROWER-STABLE"
         }
        }
       }
      }
     },
     "metadata": {},
     "output_type": "display_data"
    }
   ],
   "source": [
    "import plotly.express as px\n",
    "fig = px.line(df2, x=df2.index, y=\"BORROWER-STABLE\", title='STETH Interest Rates')\n",
    "fig.show()"
   ]
  },
  {
   "cell_type": "code",
   "execution_count": 14,
   "metadata": {},
   "outputs": [
    {
     "data": {
      "application/vnd.plotly.v1+json": {
       "config": {
        "plotlyServerURL": "https://plot.ly"
       },
       "data": [
        {
         "type": "scatter",
         "x": [
          "2023-05-31 02:12:59",
          "2023-05-30 18:55:23",
          "2023-05-29 18:58:47",
          "2023-05-28 18:43:23",
          "2023-05-27 18:44:23",
          "2023-05-26 18:34:23",
          "2023-05-25 18:29:11",
          "2023-05-24 18:59:11",
          "2023-05-23 18:50:59",
          "2023-05-22 18:59:47",
          "2023-05-21 18:58:35",
          "2023-05-20 18:58:59",
          "2023-05-19 18:54:23",
          "2023-05-18 18:41:35",
          "2023-05-17 18:23:59",
          "2023-05-16 18:21:59",
          "2023-05-15 18:46:23",
          "2023-05-14 18:59:11",
          "2023-05-13 18:55:35",
          "2023-05-12 18:56:35",
          "2023-05-11 18:58:11",
          "2023-05-10 18:35:23",
          "2023-05-09 18:59:23",
          "2023-05-08 18:54:35",
          "2023-05-07 17:56:47",
          "2023-05-06 18:43:59",
          "2023-05-05 18:18:35",
          "2023-05-04 18:41:23",
          "2023-05-03 18:49:11",
          "2023-05-02 18:46:59",
          "2023-05-01 18:48:47",
          "2023-04-30 18:48:47",
          "2023-04-29 18:56:11",
          "2023-04-28 18:59:35",
          "2023-04-27 18:45:59",
          "2023-04-26 18:57:59",
          "2023-04-25 18:52:11",
          "2023-04-24 18:53:59",
          "2023-04-23 18:59:47",
          "2023-04-22 18:52:47",
          "2023-04-21 18:59:59",
          "2023-04-20 18:59:35",
          "2023-04-19 18:51:59",
          "2023-04-18 18:57:59",
          "2023-04-17 18:41:11",
          "2023-04-16 18:59:47",
          "2023-04-15 18:54:11",
          "2023-04-14 18:58:59",
          "2023-04-13 18:59:23",
          "2023-04-12 18:59:11",
          "2023-04-11 18:49:35",
          "2023-04-10 18:58:35",
          "2023-04-09 18:58:35",
          "2023-04-08 18:59:59",
          "2023-04-07 18:57:23",
          "2023-04-06 18:43:47",
          "2023-04-05 18:57:11",
          "2023-04-04 18:57:47",
          "2023-04-03 18:57:11",
          "2023-04-02 18:58:23",
          "2023-04-01 18:58:11",
          "2023-03-31 18:59:11",
          "2023-03-30 18:54:47",
          "2023-03-29 18:57:11",
          "2023-03-28 18:56:23",
          "2023-03-27 18:48:59",
          "2023-03-26 18:59:59",
          "2023-03-25 18:33:11",
          "2023-03-24 18:49:23",
          "2023-03-23 18:57:35",
          "2023-03-22 18:57:35",
          "2023-03-21 18:58:35",
          "2023-03-20 18:52:47",
          "2023-03-19 18:58:11",
          "2023-03-18 18:51:11",
          "2023-03-17 18:59:35",
          "2023-03-16 18:54:35",
          "2023-03-15 18:54:11",
          "2023-03-14 18:56:47",
          "2023-03-13 18:58:59",
          "2023-03-12 18:59:59",
          "2023-03-11 17:58:47",
          "2023-03-10 17:58:47",
          "2023-03-09 17:54:23",
          "2023-03-08 17:59:23",
          "2023-03-07 17:44:11",
          "2023-03-06 17:53:11",
          "2023-03-05 17:51:23",
          "2023-03-04 17:53:23",
          "2023-03-03 17:34:23",
          "2023-03-02 17:59:47",
          "2023-03-01 17:55:23",
          "2023-02-28 17:57:47",
          "2023-02-27 17:56:35",
          "2023-02-26 17:57:59",
          "2023-02-25 17:58:23",
          "2023-02-24 16:59:35",
          "2023-02-23 17:40:47",
          "2023-02-22 17:44:23",
          "2023-02-21 17:59:11"
         ],
         "y": [
          55,
          110,
          116,
          127,
          106,
          118,
          106,
          131,
          106,
          89,
          116,
          91,
          97,
          108,
          115,
          89,
          96,
          97,
          93,
          144,
          101,
          112,
          112,
          99,
          62,
          53,
          65,
          90,
          112,
          83,
          119,
          85,
          100,
          123,
          146,
          171,
          149,
          129,
          113,
          131,
          190,
          143,
          133,
          128,
          156,
          156,
          152,
          246,
          222,
          197,
          157,
          147,
          128,
          132,
          130,
          132,
          121,
          143,
          160,
          130,
          141,
          130,
          125,
          138,
          152,
          151,
          141,
          145,
          178,
          189,
          198,
          185,
          210,
          423,
          238,
          462,
          244,
          254,
          308,
          489,
          501,
          765,
          290,
          161,
          119,
          115,
          99,
          99,
          112,
          151,
          117,
          126,
          120,
          124,
          121,
          121,
          106,
          104,
          109,
          134
         ]
        }
       ],
       "layout": {
        "template": {
         "data": {
          "bar": [
           {
            "error_x": {
             "color": "#2a3f5f"
            },
            "error_y": {
             "color": "#2a3f5f"
            },
            "marker": {
             "line": {
              "color": "#E5ECF6",
              "width": 0.5
             },
             "pattern": {
              "fillmode": "overlay",
              "size": 10,
              "solidity": 0.2
             }
            },
            "type": "bar"
           }
          ],
          "barpolar": [
           {
            "marker": {
             "line": {
              "color": "#E5ECF6",
              "width": 0.5
             },
             "pattern": {
              "fillmode": "overlay",
              "size": 10,
              "solidity": 0.2
             }
            },
            "type": "barpolar"
           }
          ],
          "carpet": [
           {
            "aaxis": {
             "endlinecolor": "#2a3f5f",
             "gridcolor": "white",
             "linecolor": "white",
             "minorgridcolor": "white",
             "startlinecolor": "#2a3f5f"
            },
            "baxis": {
             "endlinecolor": "#2a3f5f",
             "gridcolor": "white",
             "linecolor": "white",
             "minorgridcolor": "white",
             "startlinecolor": "#2a3f5f"
            },
            "type": "carpet"
           }
          ],
          "choropleth": [
           {
            "colorbar": {
             "outlinewidth": 0,
             "ticks": ""
            },
            "type": "choropleth"
           }
          ],
          "contour": [
           {
            "colorbar": {
             "outlinewidth": 0,
             "ticks": ""
            },
            "colorscale": [
             [
              0,
              "#0d0887"
             ],
             [
              0.1111111111111111,
              "#46039f"
             ],
             [
              0.2222222222222222,
              "#7201a8"
             ],
             [
              0.3333333333333333,
              "#9c179e"
             ],
             [
              0.4444444444444444,
              "#bd3786"
             ],
             [
              0.5555555555555556,
              "#d8576b"
             ],
             [
              0.6666666666666666,
              "#ed7953"
             ],
             [
              0.7777777777777778,
              "#fb9f3a"
             ],
             [
              0.8888888888888888,
              "#fdca26"
             ],
             [
              1,
              "#f0f921"
             ]
            ],
            "type": "contour"
           }
          ],
          "contourcarpet": [
           {
            "colorbar": {
             "outlinewidth": 0,
             "ticks": ""
            },
            "type": "contourcarpet"
           }
          ],
          "heatmap": [
           {
            "colorbar": {
             "outlinewidth": 0,
             "ticks": ""
            },
            "colorscale": [
             [
              0,
              "#0d0887"
             ],
             [
              0.1111111111111111,
              "#46039f"
             ],
             [
              0.2222222222222222,
              "#7201a8"
             ],
             [
              0.3333333333333333,
              "#9c179e"
             ],
             [
              0.4444444444444444,
              "#bd3786"
             ],
             [
              0.5555555555555556,
              "#d8576b"
             ],
             [
              0.6666666666666666,
              "#ed7953"
             ],
             [
              0.7777777777777778,
              "#fb9f3a"
             ],
             [
              0.8888888888888888,
              "#fdca26"
             ],
             [
              1,
              "#f0f921"
             ]
            ],
            "type": "heatmap"
           }
          ],
          "heatmapgl": [
           {
            "colorbar": {
             "outlinewidth": 0,
             "ticks": ""
            },
            "colorscale": [
             [
              0,
              "#0d0887"
             ],
             [
              0.1111111111111111,
              "#46039f"
             ],
             [
              0.2222222222222222,
              "#7201a8"
             ],
             [
              0.3333333333333333,
              "#9c179e"
             ],
             [
              0.4444444444444444,
              "#bd3786"
             ],
             [
              0.5555555555555556,
              "#d8576b"
             ],
             [
              0.6666666666666666,
              "#ed7953"
             ],
             [
              0.7777777777777778,
              "#fb9f3a"
             ],
             [
              0.8888888888888888,
              "#fdca26"
             ],
             [
              1,
              "#f0f921"
             ]
            ],
            "type": "heatmapgl"
           }
          ],
          "histogram": [
           {
            "marker": {
             "pattern": {
              "fillmode": "overlay",
              "size": 10,
              "solidity": 0.2
             }
            },
            "type": "histogram"
           }
          ],
          "histogram2d": [
           {
            "colorbar": {
             "outlinewidth": 0,
             "ticks": ""
            },
            "colorscale": [
             [
              0,
              "#0d0887"
             ],
             [
              0.1111111111111111,
              "#46039f"
             ],
             [
              0.2222222222222222,
              "#7201a8"
             ],
             [
              0.3333333333333333,
              "#9c179e"
             ],
             [
              0.4444444444444444,
              "#bd3786"
             ],
             [
              0.5555555555555556,
              "#d8576b"
             ],
             [
              0.6666666666666666,
              "#ed7953"
             ],
             [
              0.7777777777777778,
              "#fb9f3a"
             ],
             [
              0.8888888888888888,
              "#fdca26"
             ],
             [
              1,
              "#f0f921"
             ]
            ],
            "type": "histogram2d"
           }
          ],
          "histogram2dcontour": [
           {
            "colorbar": {
             "outlinewidth": 0,
             "ticks": ""
            },
            "colorscale": [
             [
              0,
              "#0d0887"
             ],
             [
              0.1111111111111111,
              "#46039f"
             ],
             [
              0.2222222222222222,
              "#7201a8"
             ],
             [
              0.3333333333333333,
              "#9c179e"
             ],
             [
              0.4444444444444444,
              "#bd3786"
             ],
             [
              0.5555555555555556,
              "#d8576b"
             ],
             [
              0.6666666666666666,
              "#ed7953"
             ],
             [
              0.7777777777777778,
              "#fb9f3a"
             ],
             [
              0.8888888888888888,
              "#fdca26"
             ],
             [
              1,
              "#f0f921"
             ]
            ],
            "type": "histogram2dcontour"
           }
          ],
          "mesh3d": [
           {
            "colorbar": {
             "outlinewidth": 0,
             "ticks": ""
            },
            "type": "mesh3d"
           }
          ],
          "parcoords": [
           {
            "line": {
             "colorbar": {
              "outlinewidth": 0,
              "ticks": ""
             }
            },
            "type": "parcoords"
           }
          ],
          "pie": [
           {
            "automargin": true,
            "type": "pie"
           }
          ],
          "scatter": [
           {
            "fillpattern": {
             "fillmode": "overlay",
             "size": 10,
             "solidity": 0.2
            },
            "type": "scatter"
           }
          ],
          "scatter3d": [
           {
            "line": {
             "colorbar": {
              "outlinewidth": 0,
              "ticks": ""
             }
            },
            "marker": {
             "colorbar": {
              "outlinewidth": 0,
              "ticks": ""
             }
            },
            "type": "scatter3d"
           }
          ],
          "scattercarpet": [
           {
            "marker": {
             "colorbar": {
              "outlinewidth": 0,
              "ticks": ""
             }
            },
            "type": "scattercarpet"
           }
          ],
          "scattergeo": [
           {
            "marker": {
             "colorbar": {
              "outlinewidth": 0,
              "ticks": ""
             }
            },
            "type": "scattergeo"
           }
          ],
          "scattergl": [
           {
            "marker": {
             "colorbar": {
              "outlinewidth": 0,
              "ticks": ""
             }
            },
            "type": "scattergl"
           }
          ],
          "scattermapbox": [
           {
            "marker": {
             "colorbar": {
              "outlinewidth": 0,
              "ticks": ""
             }
            },
            "type": "scattermapbox"
           }
          ],
          "scatterpolar": [
           {
            "marker": {
             "colorbar": {
              "outlinewidth": 0,
              "ticks": ""
             }
            },
            "type": "scatterpolar"
           }
          ],
          "scatterpolargl": [
           {
            "marker": {
             "colorbar": {
              "outlinewidth": 0,
              "ticks": ""
             }
            },
            "type": "scatterpolargl"
           }
          ],
          "scatterternary": [
           {
            "marker": {
             "colorbar": {
              "outlinewidth": 0,
              "ticks": ""
             }
            },
            "type": "scatterternary"
           }
          ],
          "surface": [
           {
            "colorbar": {
             "outlinewidth": 0,
             "ticks": ""
            },
            "colorscale": [
             [
              0,
              "#0d0887"
             ],
             [
              0.1111111111111111,
              "#46039f"
             ],
             [
              0.2222222222222222,
              "#7201a8"
             ],
             [
              0.3333333333333333,
              "#9c179e"
             ],
             [
              0.4444444444444444,
              "#bd3786"
             ],
             [
              0.5555555555555556,
              "#d8576b"
             ],
             [
              0.6666666666666666,
              "#ed7953"
             ],
             [
              0.7777777777777778,
              "#fb9f3a"
             ],
             [
              0.8888888888888888,
              "#fdca26"
             ],
             [
              1,
              "#f0f921"
             ]
            ],
            "type": "surface"
           }
          ],
          "table": [
           {
            "cells": {
             "fill": {
              "color": "#EBF0F8"
             },
             "line": {
              "color": "white"
             }
            },
            "header": {
             "fill": {
              "color": "#C8D4E3"
             },
             "line": {
              "color": "white"
             }
            },
            "type": "table"
           }
          ]
         },
         "layout": {
          "annotationdefaults": {
           "arrowcolor": "#2a3f5f",
           "arrowhead": 0,
           "arrowwidth": 1
          },
          "autotypenumbers": "strict",
          "coloraxis": {
           "colorbar": {
            "outlinewidth": 0,
            "ticks": ""
           }
          },
          "colorscale": {
           "diverging": [
            [
             0,
             "#8e0152"
            ],
            [
             0.1,
             "#c51b7d"
            ],
            [
             0.2,
             "#de77ae"
            ],
            [
             0.3,
             "#f1b6da"
            ],
            [
             0.4,
             "#fde0ef"
            ],
            [
             0.5,
             "#f7f7f7"
            ],
            [
             0.6,
             "#e6f5d0"
            ],
            [
             0.7,
             "#b8e186"
            ],
            [
             0.8,
             "#7fbc41"
            ],
            [
             0.9,
             "#4d9221"
            ],
            [
             1,
             "#276419"
            ]
           ],
           "sequential": [
            [
             0,
             "#0d0887"
            ],
            [
             0.1111111111111111,
             "#46039f"
            ],
            [
             0.2222222222222222,
             "#7201a8"
            ],
            [
             0.3333333333333333,
             "#9c179e"
            ],
            [
             0.4444444444444444,
             "#bd3786"
            ],
            [
             0.5555555555555556,
             "#d8576b"
            ],
            [
             0.6666666666666666,
             "#ed7953"
            ],
            [
             0.7777777777777778,
             "#fb9f3a"
            ],
            [
             0.8888888888888888,
             "#fdca26"
            ],
            [
             1,
             "#f0f921"
            ]
           ],
           "sequentialminus": [
            [
             0,
             "#0d0887"
            ],
            [
             0.1111111111111111,
             "#46039f"
            ],
            [
             0.2222222222222222,
             "#7201a8"
            ],
            [
             0.3333333333333333,
             "#9c179e"
            ],
            [
             0.4444444444444444,
             "#bd3786"
            ],
            [
             0.5555555555555556,
             "#d8576b"
            ],
            [
             0.6666666666666666,
             "#ed7953"
            ],
            [
             0.7777777777777778,
             "#fb9f3a"
            ],
            [
             0.8888888888888888,
             "#fdca26"
            ],
            [
             1,
             "#f0f921"
            ]
           ]
          },
          "colorway": [
           "#636efa",
           "#EF553B",
           "#00cc96",
           "#ab63fa",
           "#FFA15A",
           "#19d3f3",
           "#FF6692",
           "#B6E880",
           "#FF97FF",
           "#FECB52"
          ],
          "font": {
           "color": "#2a3f5f"
          },
          "geo": {
           "bgcolor": "white",
           "lakecolor": "white",
           "landcolor": "#E5ECF6",
           "showlakes": true,
           "showland": true,
           "subunitcolor": "white"
          },
          "hoverlabel": {
           "align": "left"
          },
          "hovermode": "closest",
          "mapbox": {
           "style": "light"
          },
          "paper_bgcolor": "white",
          "plot_bgcolor": "#E5ECF6",
          "polar": {
           "angularaxis": {
            "gridcolor": "white",
            "linecolor": "white",
            "ticks": ""
           },
           "bgcolor": "#E5ECF6",
           "radialaxis": {
            "gridcolor": "white",
            "linecolor": "white",
            "ticks": ""
           }
          },
          "scene": {
           "xaxis": {
            "backgroundcolor": "#E5ECF6",
            "gridcolor": "white",
            "gridwidth": 2,
            "linecolor": "white",
            "showbackground": true,
            "ticks": "",
            "zerolinecolor": "white"
           },
           "yaxis": {
            "backgroundcolor": "#E5ECF6",
            "gridcolor": "white",
            "gridwidth": 2,
            "linecolor": "white",
            "showbackground": true,
            "ticks": "",
            "zerolinecolor": "white"
           },
           "zaxis": {
            "backgroundcolor": "#E5ECF6",
            "gridcolor": "white",
            "gridwidth": 2,
            "linecolor": "white",
            "showbackground": true,
            "ticks": "",
            "zerolinecolor": "white"
           }
          },
          "shapedefaults": {
           "line": {
            "color": "#2a3f5f"
           }
          },
          "ternary": {
           "aaxis": {
            "gridcolor": "white",
            "linecolor": "white",
            "ticks": ""
           },
           "baxis": {
            "gridcolor": "white",
            "linecolor": "white",
            "ticks": ""
           },
           "bgcolor": "#E5ECF6",
           "caxis": {
            "gridcolor": "white",
            "linecolor": "white",
            "ticks": ""
           }
          },
          "title": {
           "x": 0.05
          },
          "xaxis": {
           "automargin": true,
           "gridcolor": "white",
           "linecolor": "white",
           "ticks": "",
           "title": {
            "standoff": 15
           },
           "zerolinecolor": "white",
           "zerolinewidth": 2
          },
          "yaxis": {
           "automargin": true,
           "gridcolor": "white",
           "linecolor": "white",
           "ticks": "",
           "title": {
            "standoff": 15
           },
           "zerolinecolor": "white",
           "zerolinewidth": 2
          }
         }
        },
        "title": {
         "text": "Daily Active Users vs Datetime"
        },
        "xaxis": {
         "title": {
          "text": "Datetime"
         }
        },
        "yaxis": {
         "title": {
          "text": "Daily Active Users"
         }
        }
       }
      }
     },
     "metadata": {},
     "output_type": "display_data"
    }
   ],
   "source": [
    "from subgrounds.contrib.plotly import Figure, Scatter\n",
    "\n",
    "# Create the Scatter trace with appropriate field paths\n",
    "trace = Scatter(\n",
    "    x=usage_metrics_daily.datetime,\n",
    "    y=usage_metrics_daily.dailyActiveUsers,\n",
    ")\n",
    "\n",
    "# Create the Figure instance with the trace and display it\n",
    "fig = Figure(\n",
    "    subgrounds=sg,\n",
    "    traces=trace,\n",
    "    layout=dict(\n",
    "        title=\"Daily Active Users vs Datetime\",\n",
    "        xaxis=dict(title=\"Datetime\"),\n",
    "        yaxis=dict(title=\"Daily Active Users\")\n",
    "    ),\n",
    ")\n",
    "fig.figure.show()"
   ]
  }
 ],
 "metadata": {
  "kernelspec": {
   "display_name": "Python 3.10.2 ('subgroundsEnv': venv)",
   "language": "python",
   "name": "python3"
  },
  "language_info": {
   "codemirror_mode": {
    "name": "ipython",
    "version": 3
   },
   "file_extension": ".py",
   "mimetype": "text/x-python",
   "name": "python",
   "nbconvert_exporter": "python",
   "pygments_lexer": "ipython3",
   "version": "3.10.2"
  },
  "orig_nbformat": 4,
  "vscode": {
   "interpreter": {
    "hash": "5e01dad8a87569d700bc084cc42f01a4560577cc0dcddfd5931e8a480921b22a"
   }
  }
 },
 "nbformat": 4,
 "nbformat_minor": 2
}
