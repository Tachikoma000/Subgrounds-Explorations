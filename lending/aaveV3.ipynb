{
 "cells": [
  {
   "cell_type": "markdown",
   "metadata": {},
   "source": [
    "Introduce getting started with Subgrounds and Gateway:\n",
    "1. Introduce aave_v3\n",
    "2. Introduce we will cover usage snapshots and lending facilities. Use GraphQL to query the data.\n",
    "3. Introduce query, query df, query json\n",
    "   - Usage metrics data with raw time stamp.\n",
    "     - Query\n",
    "     - Query_df\n",
    "4. Introduce synthetic fields\n",
    "   - Usage metrics data with synthetic field time stamp.\n",
    "     - Lamda method\n",
    "     - Helper method\n",
    "5. Introduce Plotly wrapper\n",
    "   - Plot simple line charts \n",
    "6. Wrap up demo\n",
    "   - Gateway\n",
    "   - Subgrounds\n"
   ]
  },
  {
   "cell_type": "markdown",
   "metadata": {},
   "source": [
    "About AAVE:\n",
    "\n",
    "Aave is a decentralized finance protocol that allows people to lend and borrow cryptocurrencies. \n",
    "\n",
    "Lenders earn interest by depositing digital assets into specially created liquidity pools. \n",
    "\n",
    "Borrowers can then use their crypto as collateral to take out a flash loan using this liquidity.\n",
    "\n",
    "Aave V3, introducing important new risk mitigation features and improved capital efficiency\n",
    "\n",
    "V3 was designed with a flexible architecture for increased composability, and made it possible to build a variety of innovative features on top of the protocol such as new risk management tools that provide additional security and stability. \n",
    "\n",
    "Examples include Supply and Borrow Caps and Risk and Listing Admins. Aave V3 also improves capital efficiency and decentralized liquidity while lowering gas fees 25 percent."
   ]
  },
  {
   "cell_type": "markdown",
   "metadata": {},
   "source": [
    "usageMetricsDailySnapshots which seems to contain daily snapshots of various usage metrics associated with the AAVE lending protocol.\n",
    "\n",
    "- Showcase usage metrics on the graphql playgrounds\n",
    "\n",
    "lendingProtocols: This represents a lending protocol on the AAVE V3 platform\n",
    "\n",
    "- Showcase lending protocol on the graphql playgrounds"
   ]
  },
  {
   "cell_type": "code",
   "execution_count": 42,
   "metadata": {},
   "outputs": [],
   "source": [
    "## Gateway setup\n",
    "\n",
    "# Import subgrounds\n",
    "from subgrounds import Subgrounds\n",
    "\n",
    "# Instantiate subgrounds and insert Playgrounds API key into header\n",
    "sg = Subgrounds.from_pg_key(\"pg-AqAFS8G3TN3Kagdgw2MrGjFvDGUgxImS\")\n",
    "\n",
    "# Insert desired subgraph id from decentralized subgraph. Find in subgraph url\n",
    "aave_v3_id = \"HB1Z2EAw4rtPRYVb2Nz8QGFLHCpym6ByBX6vbCViuE9F\""
   ]
  },
  {
   "cell_type": "code",
   "execution_count": 43,
   "metadata": {},
   "outputs": [],
   "source": [
    "# Load subgraph using playgrounds proxy endpoint \n",
    "aave_v3 = sg.load_subgraph(f\"https://api.playgrounds.network/v1/proxy/subgraphs/id/{aave_v3_id}\")"
   ]
  },
  {
   "cell_type": "code",
   "execution_count": 44,
   "metadata": {},
   "outputs": [],
   "source": [
    "# How to query subgraphs with subgrounds\n",
    "# Subgrounds allows the same arguments as you normally use on graphql\n",
    "\n",
    "usage_metrics_daily = aave_v3.Query.usageMetricsDailySnapshots(\n",
    "    first = 10,\n",
    "    orderDirection = 'desc'\n",
    ")\n",
    "\n",
    "# q_json_ex = sg.query_json([\n",
    "    \n",
    "#     usage_metrics_daily.timestamp,\n",
    "#     usage_metrics_daily.dailyActiveBorrowers,\n",
    "#     usage_metrics_daily.dailyActiveDepositors,\n",
    "# ])\n",
    "\n",
    "q_df_ex = sg.query_df([\n",
    "    usage_metrics_daily.timestamp,\n",
    "    usage_metrics_daily.dailyActiveBorrowers,\n",
    "    usage_metrics_daily.dailyActiveDepositors,\n",
    "])"
   ]
  },
  {
   "cell_type": "code",
   "execution_count": 45,
   "metadata": {},
   "outputs": [
    {
     "data": {
      "text/html": [
       "<div>\n",
       "<style scoped>\n",
       "    .dataframe tbody tr th:only-of-type {\n",
       "        vertical-align: middle;\n",
       "    }\n",
       "\n",
       "    .dataframe tbody tr th {\n",
       "        vertical-align: top;\n",
       "    }\n",
       "\n",
       "    .dataframe thead th {\n",
       "        text-align: right;\n",
       "    }\n",
       "</style>\n",
       "<table border=\"1\" class=\"dataframe\">\n",
       "  <thead>\n",
       "    <tr style=\"text-align: right;\">\n",
       "      <th></th>\n",
       "      <th>usageMetricsDailySnapshots_timestamp</th>\n",
       "      <th>usageMetricsDailySnapshots_dailyActiveBorrowers</th>\n",
       "      <th>usageMetricsDailySnapshots_dailyActiveDepositors</th>\n",
       "    </tr>\n",
       "  </thead>\n",
       "  <tbody>\n",
       "    <tr>\n",
       "      <th>0</th>\n",
       "      <td>1685116919</td>\n",
       "      <td>30</td>\n",
       "      <td>55</td>\n",
       "    </tr>\n",
       "    <tr>\n",
       "      <th>1</th>\n",
       "      <td>1685057351</td>\n",
       "      <td>59</td>\n",
       "      <td>60</td>\n",
       "    </tr>\n",
       "    <tr>\n",
       "      <th>2</th>\n",
       "      <td>1684972751</td>\n",
       "      <td>59</td>\n",
       "      <td>81</td>\n",
       "    </tr>\n",
       "    <tr>\n",
       "      <th>3</th>\n",
       "      <td>1684885859</td>\n",
       "      <td>52</td>\n",
       "      <td>56</td>\n",
       "    </tr>\n",
       "    <tr>\n",
       "      <th>4</th>\n",
       "      <td>1684799987</td>\n",
       "      <td>37</td>\n",
       "      <td>51</td>\n",
       "    </tr>\n",
       "    <tr>\n",
       "      <th>5</th>\n",
       "      <td>1684713515</td>\n",
       "      <td>37</td>\n",
       "      <td>83</td>\n",
       "    </tr>\n",
       "    <tr>\n",
       "      <th>6</th>\n",
       "      <td>1684627139</td>\n",
       "      <td>34</td>\n",
       "      <td>74</td>\n",
       "    </tr>\n",
       "    <tr>\n",
       "      <th>7</th>\n",
       "      <td>1684540463</td>\n",
       "      <td>43</td>\n",
       "      <td>56</td>\n",
       "    </tr>\n",
       "    <tr>\n",
       "      <th>8</th>\n",
       "      <td>1684453295</td>\n",
       "      <td>33</td>\n",
       "      <td>68</td>\n",
       "    </tr>\n",
       "    <tr>\n",
       "      <th>9</th>\n",
       "      <td>1684365839</td>\n",
       "      <td>44</td>\n",
       "      <td>75</td>\n",
       "    </tr>\n",
       "  </tbody>\n",
       "</table>\n",
       "</div>"
      ],
      "text/plain": [
       "   usageMetricsDailySnapshots_timestamp  \\\n",
       "0                            1685116919   \n",
       "1                            1685057351   \n",
       "2                            1684972751   \n",
       "3                            1684885859   \n",
       "4                            1684799987   \n",
       "5                            1684713515   \n",
       "6                            1684627139   \n",
       "7                            1684540463   \n",
       "8                            1684453295   \n",
       "9                            1684365839   \n",
       "\n",
       "   usageMetricsDailySnapshots_dailyActiveBorrowers  \\\n",
       "0                                               30   \n",
       "1                                               59   \n",
       "2                                               59   \n",
       "3                                               52   \n",
       "4                                               37   \n",
       "5                                               37   \n",
       "6                                               34   \n",
       "7                                               43   \n",
       "8                                               33   \n",
       "9                                               44   \n",
       "\n",
       "   usageMetricsDailySnapshots_dailyActiveDepositors  \n",
       "0                                                55  \n",
       "1                                                60  \n",
       "2                                                81  \n",
       "3                                                56  \n",
       "4                                                51  \n",
       "5                                                83  \n",
       "6                                                74  \n",
       "7                                                56  \n",
       "8                                                68  \n",
       "9                                                75  "
      ]
     },
     "execution_count": 45,
     "metadata": {},
     "output_type": "execute_result"
    }
   ],
   "source": [
    "q_df_ex"
   ]
  },
  {
   "cell_type": "code",
   "execution_count": 46,
   "metadata": {},
   "outputs": [
    {
     "data": {
      "text/html": [
       "<div>\n",
       "<style scoped>\n",
       "    .dataframe tbody tr th:only-of-type {\n",
       "        vertical-align: middle;\n",
       "    }\n",
       "\n",
       "    .dataframe tbody tr th {\n",
       "        vertical-align: top;\n",
       "    }\n",
       "\n",
       "    .dataframe thead th {\n",
       "        text-align: right;\n",
       "    }\n",
       "</style>\n",
       "<table border=\"1\" class=\"dataframe\">\n",
       "  <thead>\n",
       "    <tr style=\"text-align: right;\">\n",
       "      <th></th>\n",
       "      <th>usageMetricsDailySnapshots_datetime</th>\n",
       "      <th>usageMetricsDailySnapshots_d_t</th>\n",
       "      <th>usageMetricsDailySnapshots_dailyActiveBorrowers</th>\n",
       "      <th>usageMetricsDailySnapshots_dailyActiveDepositors</th>\n",
       "      <th>usageMetricsDailySnapshots_dailyActiveLiquidatees</th>\n",
       "      <th>usageMetricsDailySnapshots_dailyActiveLiquidators</th>\n",
       "    </tr>\n",
       "  </thead>\n",
       "  <tbody>\n",
       "    <tr>\n",
       "      <th>0</th>\n",
       "      <td>2023-05-26 11:01:59</td>\n",
       "      <td>2023-05-26 11:01:59</td>\n",
       "      <td>30</td>\n",
       "      <td>55</td>\n",
       "      <td>0</td>\n",
       "      <td>0</td>\n",
       "    </tr>\n",
       "    <tr>\n",
       "      <th>1</th>\n",
       "      <td>2023-05-25 18:29:11</td>\n",
       "      <td>2023-05-25 18:29:11</td>\n",
       "      <td>59</td>\n",
       "      <td>60</td>\n",
       "      <td>2</td>\n",
       "      <td>2</td>\n",
       "    </tr>\n",
       "    <tr>\n",
       "      <th>2</th>\n",
       "      <td>2023-05-24 18:59:11</td>\n",
       "      <td>2023-05-24 18:59:11</td>\n",
       "      <td>59</td>\n",
       "      <td>81</td>\n",
       "      <td>0</td>\n",
       "      <td>0</td>\n",
       "    </tr>\n",
       "    <tr>\n",
       "      <th>3</th>\n",
       "      <td>2023-05-23 18:50:59</td>\n",
       "      <td>2023-05-23 18:50:59</td>\n",
       "      <td>52</td>\n",
       "      <td>56</td>\n",
       "      <td>0</td>\n",
       "      <td>0</td>\n",
       "    </tr>\n",
       "    <tr>\n",
       "      <th>4</th>\n",
       "      <td>2023-05-22 18:59:47</td>\n",
       "      <td>2023-05-22 18:59:47</td>\n",
       "      <td>37</td>\n",
       "      <td>51</td>\n",
       "      <td>0</td>\n",
       "      <td>0</td>\n",
       "    </tr>\n",
       "    <tr>\n",
       "      <th>...</th>\n",
       "      <td>...</td>\n",
       "      <td>...</td>\n",
       "      <td>...</td>\n",
       "      <td>...</td>\n",
       "      <td>...</td>\n",
       "      <td>...</td>\n",
       "    </tr>\n",
       "    <tr>\n",
       "      <th>95</th>\n",
       "      <td>2023-02-20 17:56:59</td>\n",
       "      <td>2023-02-20 17:56:59</td>\n",
       "      <td>52</td>\n",
       "      <td>93</td>\n",
       "      <td>0</td>\n",
       "      <td>0</td>\n",
       "    </tr>\n",
       "    <tr>\n",
       "      <th>96</th>\n",
       "      <td>2023-02-19 17:56:35</td>\n",
       "      <td>2023-02-19 17:56:35</td>\n",
       "      <td>63</td>\n",
       "      <td>90</td>\n",
       "      <td>0</td>\n",
       "      <td>0</td>\n",
       "    </tr>\n",
       "    <tr>\n",
       "      <th>97</th>\n",
       "      <td>2023-02-18 17:42:47</td>\n",
       "      <td>2023-02-18 17:42:47</td>\n",
       "      <td>45</td>\n",
       "      <td>74</td>\n",
       "      <td>0</td>\n",
       "      <td>0</td>\n",
       "    </tr>\n",
       "    <tr>\n",
       "      <th>98</th>\n",
       "      <td>2023-02-17 17:58:47</td>\n",
       "      <td>2023-02-17 17:58:47</td>\n",
       "      <td>54</td>\n",
       "      <td>93</td>\n",
       "      <td>0</td>\n",
       "      <td>0</td>\n",
       "    </tr>\n",
       "    <tr>\n",
       "      <th>99</th>\n",
       "      <td>2023-02-16 17:56:59</td>\n",
       "      <td>2023-02-16 17:56:59</td>\n",
       "      <td>72</td>\n",
       "      <td>97</td>\n",
       "      <td>0</td>\n",
       "      <td>0</td>\n",
       "    </tr>\n",
       "  </tbody>\n",
       "</table>\n",
       "<p>100 rows × 6 columns</p>\n",
       "</div>"
      ],
      "text/plain": [
       "   usageMetricsDailySnapshots_datetime usageMetricsDailySnapshots_d_t  \\\n",
       "0                  2023-05-26 11:01:59            2023-05-26 11:01:59   \n",
       "1                  2023-05-25 18:29:11            2023-05-25 18:29:11   \n",
       "2                  2023-05-24 18:59:11            2023-05-24 18:59:11   \n",
       "3                  2023-05-23 18:50:59            2023-05-23 18:50:59   \n",
       "4                  2023-05-22 18:59:47            2023-05-22 18:59:47   \n",
       "..                                 ...                            ...   \n",
       "95                 2023-02-20 17:56:59            2023-02-20 17:56:59   \n",
       "96                 2023-02-19 17:56:35            2023-02-19 17:56:35   \n",
       "97                 2023-02-18 17:42:47            2023-02-18 17:42:47   \n",
       "98                 2023-02-17 17:58:47            2023-02-17 17:58:47   \n",
       "99                 2023-02-16 17:56:59            2023-02-16 17:56:59   \n",
       "\n",
       "    usageMetricsDailySnapshots_dailyActiveBorrowers  \\\n",
       "0                                                30   \n",
       "1                                                59   \n",
       "2                                                59   \n",
       "3                                                52   \n",
       "4                                                37   \n",
       "..                                              ...   \n",
       "95                                               52   \n",
       "96                                               63   \n",
       "97                                               45   \n",
       "98                                               54   \n",
       "99                                               72   \n",
       "\n",
       "    usageMetricsDailySnapshots_dailyActiveDepositors  \\\n",
       "0                                                 55   \n",
       "1                                                 60   \n",
       "2                                                 81   \n",
       "3                                                 56   \n",
       "4                                                 51   \n",
       "..                                               ...   \n",
       "95                                                93   \n",
       "96                                                90   \n",
       "97                                                74   \n",
       "98                                                93   \n",
       "99                                                97   \n",
       "\n",
       "    usageMetricsDailySnapshots_dailyActiveLiquidatees  \\\n",
       "0                                                   0   \n",
       "1                                                   2   \n",
       "2                                                   0   \n",
       "3                                                   0   \n",
       "4                                                   0   \n",
       "..                                                ...   \n",
       "95                                                  0   \n",
       "96                                                  0   \n",
       "97                                                  0   \n",
       "98                                                  0   \n",
       "99                                                  0   \n",
       "\n",
       "    usageMetricsDailySnapshots_dailyActiveLiquidators  \n",
       "0                                                   0  \n",
       "1                                                   2  \n",
       "2                                                   0  \n",
       "3                                                   0  \n",
       "4                                                   0  \n",
       "..                                                ...  \n",
       "95                                                  0  \n",
       "96                                                  0  \n",
       "97                                                  0  \n",
       "98                                                  0  \n",
       "99                                                  0  \n",
       "\n",
       "[100 rows x 6 columns]"
      ]
     },
     "execution_count": 46,
     "metadata": {},
     "output_type": "execute_result"
    }
   ],
   "source": [
    "from subgrounds.subgraph import SyntheticField\n",
    "from datetime import datetime\n",
    "\n",
    "usage_metrics_daily = aave_v3.UsageMetricsDailySnapshot\n",
    "\n",
    "# Method 1\n",
    "usage_metrics_daily.d_t = SyntheticField(\n",
    "    f=lambda timestamp: str(datetime.fromtimestamp(timestamp)),\n",
    "    type_=SyntheticField.STRING,\n",
    "    deps=usage_metrics_daily.timestamp,\n",
    ")\n",
    "\n",
    "# Method 2: This helper constructor makes it easy to convert timestamps into datetime objects.\n",
    "usage_metrics_daily.datetime = SyntheticField.datetime_of_timestamp(usage_metrics_daily.timestamp)\n",
    "\n",
    "usage_metrics_daily = aave_v3.Query.usageMetricsDailySnapshots(\n",
    "    first = 100,\n",
    "    orderDirection = 'desc'\n",
    ")\n",
    "\n",
    "sg.query_df([\n",
    "    usage_metrics_daily.datetime,\n",
    "    usage_metrics_daily.d_t,\n",
    "    usage_metrics_daily.dailyActiveBorrowers,\n",
    "    usage_metrics_daily.dailyActiveDepositors,\n",
    "    usage_metrics_daily.dailyActiveLiquidatees,\n",
    "    usage_metrics_daily.dailyActiveLiquidators,\n",
    "])"
   ]
  },
  {
   "cell_type": "markdown",
   "metadata": {},
   "source": [
    "Let's play with synthetic fields some more and create some interesting transformations. That we can query as if regular GraphQL fields. \n",
    "\n",
    "SyntheticFields can created using the constructor, allowing for much more complex transformations."
   ]
  },
  {
   "cell_type": "code",
   "execution_count": 47,
   "metadata": {},
   "outputs": [
    {
     "data": {
      "text/plain": [
       "lendingProtocols_id                                  0xbaa999ac55eace41ccae355c77809e68bb345170\n",
       "lendingProtocols_name                                                                   Aave v3\n",
       "lendingProtocols_slug                                                                   aave-v3\n",
       "lendingProtocols_schemaVersion                                                            2.0.1\n",
       "lendingProtocols_subgraphVersion                                                          1.1.0\n",
       "lendingProtocols_methodologyVersion                                                       1.0.1\n",
       "lendingProtocols_network                                                                MAINNET\n",
       "lendingProtocols_type                                                                   LENDING\n",
       "lendingProtocols_lendingType                                                             POOLED\n",
       "lendingProtocols_riskType                                                              ISOLATED\n",
       "lendingProtocols_cumulativeUniqueUsers                                                     7383\n",
       "lendingProtocols_cumulativeUniqueDepositors                                                7283\n",
       "lendingProtocols_cumulativeUniqueBorrowers                                                 3560\n",
       "lendingProtocols_cumulativeUniqueLiquidators                                                 13\n",
       "lendingProtocols_cumulativeUniqueLiquidatees                                                 37\n",
       "lendingProtocols_totalValueLockedUSD                                          1444314621.587337\n",
       "lendingProtocols_protocolControlledValueUSD                                                None\n",
       "lendingProtocols_cumulativeSupplySideRevenueUSD                                  2848933.252756\n",
       "lendingProtocols_cumulativeProtocolSideRevenueUSD                                 429295.355314\n",
       "lendingProtocols_cumulativeTotalRevenueUSD                                        3278228.60807\n",
       "lendingProtocols_totalDepositBalanceUSD                                       1444314621.587337\n",
       "lendingProtocols_cumulativeDepositUSD                                         4148153832.340721\n",
       "lendingProtocols_totalBorrowBalanceUSD                                         531826796.582724\n",
       "lendingProtocols_cumulativeBorrowUSD                                          2994888480.896606\n",
       "lendingProtocols_cumulativeLiquidateUSD                                           504376.008139\n",
       "lendingProtocols_totalPoolCount                                                              17\n",
       "lendingProtocols_openPositionCount                                                         9619\n",
       "lendingProtocols_cumulativePositionCount                                                  19469\n",
       "lendingProtocols__priceOracle                        0x54586be62e3c3580375ae3723c145253060ca0c2\n",
       "Name: 0, dtype: object"
      ]
     },
     "execution_count": 47,
     "metadata": {},
     "output_type": "execute_result"
    }
   ],
   "source": [
    "\n",
    "# Query lending protocols entitty and fields from subgraph\n",
    "# Here we are querying all of the fields in the lending protocols\n",
    "\n",
    "aave_lending = aave_v3.Query.lendingProtocols()\n",
    "aave_overview = sg.query_df(aave_lending)\n",
    "aave_overview.squeeze()"
   ]
  },
  {
   "cell_type": "code",
   "execution_count": 48,
   "metadata": {},
   "outputs": [
    {
     "data": {
      "text/plain": [
       "lendingProtocols_name                                          Aave v3\n",
       "lendingProtocols_type                                          LENDING\n",
       "lendingProtocols_cumulativeBorrowUSD                 2994888480.896606\n",
       "lendingProtocols_cumulativeDepositUSD                4148153832.340721\n",
       "lendingProtocols_cumulativeLiquidateUSD                  504376.008139\n",
       "lendingProtocols_cumulativePositionCount                         19469\n",
       "lendingProtocols_cumulativeProtocolSideRevenueUSD        429295.355314\n",
       "lendingProtocols_cumulativeSupplySideRevenueUSD         2848933.252756\n",
       "lendingProtocols_cumulativeTotalRevenueUSD               3278228.60807\n",
       "lendingProtocols_cumulativeUniqueUsers                            7383\n",
       "lendingProtocols_cumulativeUniqueBorrowers                        3560\n",
       "lendingProtocols_cumulativeUniqueDepositors                       7283\n",
       "lendingProtocols_cumulativeUniqueLiquidatees                        37\n",
       "lendingProtocols_cumulativeUniqueLiquidators                        13\n",
       "Name: 0, dtype: object"
      ]
     },
     "execution_count": 48,
     "metadata": {},
     "output_type": "execute_result"
    }
   ],
   "source": [
    "# Query lending protocols entitty and specific fields \n",
    "\n",
    "aave_lending = aave_v3.Query.lendingProtocols()\n",
    "aave_overview = sg.query_df([\n",
    "    aave_lending.name,\n",
    "    aave_lending.type,\n",
    "    aave_lending.cumulativeBorrowUSD,\n",
    "    aave_lending.cumulativeDepositUSD,\n",
    "    aave_lending.cumulativeLiquidateUSD,\n",
    "    aave_lending.cumulativePositionCount,\n",
    "    aave_lending.cumulativeProtocolSideRevenueUSD,\n",
    "    aave_lending.cumulativeSupplySideRevenueUSD,\n",
    "    aave_lending.cumulativeTotalRevenueUSD,\n",
    "    aave_lending.cumulativeUniqueUsers,\n",
    "    aave_lending.cumulativeUniqueBorrowers,\n",
    "    aave_lending.cumulativeUniqueDepositors,\n",
    "    aave_lending.cumulativeUniqueLiquidatees,\n",
    "    aave_lending.cumulativeUniqueLiquidators,\n",
    "])\n",
    "aave_overview.squeeze()"
   ]
  },
  {
   "cell_type": "code",
   "execution_count": 49,
   "metadata": {},
   "outputs": [
    {
     "data": {
      "text/plain": [
       "(531826796.5827241, 1444314621.5873365, 0.3682208769708595)"
      ]
     },
     "execution_count": 49,
     "metadata": {},
     "output_type": "execute_result"
    }
   ],
   "source": [
    "from subgrounds.subgraph import SyntheticField\n",
    "\n",
    "# Borrow_Deposit_Ratio: Calculate borrow deposit ratio by dividing the total borrow by the total deposit\n",
    "aave_v3.LendingProtocol.borrow_dep_ratio = SyntheticField(\n",
    "    lambda x, y: x/y,\n",
    "    SyntheticField.FLOAT,\n",
    "    [aave_v3.LendingProtocol.totalBorrowBalanceUSD,\n",
    "    aave_v3.LendingProtocol.totalDepositBalanceUSD],\n",
    ")\n",
    "\n",
    "sg.query([aave_lending.totalBorrowBalanceUSD,\n",
    "          aave_lending.totalDepositBalanceUSD,\n",
    "          aave_lending.borrow_dep_ratio])"
   ]
  },
  {
   "cell_type": "code",
   "execution_count": 50,
   "metadata": {},
   "outputs": [
    {
     "data": {
      "text/html": [
       "<div>\n",
       "<style scoped>\n",
       "    .dataframe tbody tr th:only-of-type {\n",
       "        vertical-align: middle;\n",
       "    }\n",
       "\n",
       "    .dataframe tbody tr th {\n",
       "        vertical-align: top;\n",
       "    }\n",
       "\n",
       "    .dataframe thead th {\n",
       "        text-align: right;\n",
       "    }\n",
       "</style>\n",
       "<table border=\"1\" class=\"dataframe\">\n",
       "  <thead>\n",
       "    <tr style=\"text-align: right;\">\n",
       "      <th></th>\n",
       "      <th>lendingProtocols_cumulativeUniqueBorrowers</th>\n",
       "      <th>lendingProtocols_cumulativeUniqueUsers</th>\n",
       "      <th>lendingProtocols_user_engagement_borrowed</th>\n",
       "    </tr>\n",
       "  </thead>\n",
       "  <tbody>\n",
       "    <tr>\n",
       "      <th>0</th>\n",
       "      <td>3560</td>\n",
       "      <td>7383</td>\n",
       "      <td>0.482189</td>\n",
       "    </tr>\n",
       "  </tbody>\n",
       "</table>\n",
       "</div>"
      ],
      "text/plain": [
       "   lendingProtocols_cumulativeUniqueBorrowers  \\\n",
       "0                                        3560   \n",
       "\n",
       "   lendingProtocols_cumulativeUniqueUsers  \\\n",
       "0                                    7383   \n",
       "\n",
       "   lendingProtocols_user_engagement_borrowed  \n",
       "0                                   0.482189  "
      ]
     },
     "execution_count": 50,
     "metadata": {},
     "output_type": "execute_result"
    }
   ],
   "source": [
    "# User Engagement Metrics: You can calculate the proportion of users who have ever borrowed,\n",
    "# by dividing each of the cumulativeUnique...\n",
    "# fields by cumulativeUniqueUsers\n",
    "\n",
    "aave_v3.LendingProtocol.user_engagement_borrowed = (\n",
    "    abs(aave_v3.LendingProtocol.cumulativeUniqueBorrowers)\n",
    "/abs(aave_v3.LendingProtocol.cumulativeUniqueUsers)\n",
    ")\n",
    "\n",
    "sg.query_df([aave_lending.cumulativeUniqueBorrowers,\n",
    "             aave_lending.cumulativeUniqueUsers,\n",
    "             aave_lending.user_engagement_borrowed])"
   ]
  },
  {
   "cell_type": "code",
   "execution_count": 51,
   "metadata": {},
   "outputs": [
    {
     "data": {
      "text/html": [
       "<div>\n",
       "<style scoped>\n",
       "    .dataframe tbody tr th:only-of-type {\n",
       "        vertical-align: middle;\n",
       "    }\n",
       "\n",
       "    .dataframe tbody tr th {\n",
       "        vertical-align: top;\n",
       "    }\n",
       "\n",
       "    .dataframe thead th {\n",
       "        text-align: right;\n",
       "    }\n",
       "</style>\n",
       "<table border=\"1\" class=\"dataframe\">\n",
       "  <thead>\n",
       "    <tr style=\"text-align: right;\">\n",
       "      <th></th>\n",
       "      <th>lendingProtocols_avg_borrow_per_user</th>\n",
       "      <th>lendingProtocols_avg_deposit_per_user</th>\n",
       "      <th>lendingProtocols_avg_liquidation_per_user</th>\n",
       "    </tr>\n",
       "  </thead>\n",
       "  <tbody>\n",
       "    <tr>\n",
       "      <th>0</th>\n",
       "      <td>841260.809241</td>\n",
       "      <td>569566.639069</td>\n",
       "      <td>13631.784004</td>\n",
       "    </tr>\n",
       "  </tbody>\n",
       "</table>\n",
       "</div>"
      ],
      "text/plain": [
       "   lendingProtocols_avg_borrow_per_user  \\\n",
       "0                         841260.809241   \n",
       "\n",
       "   lendingProtocols_avg_deposit_per_user  \\\n",
       "0                          569566.639069   \n",
       "\n",
       "   lendingProtocols_avg_liquidation_per_user  \n",
       "0                               13631.784004  "
      ]
     },
     "execution_count": 51,
     "metadata": {},
     "output_type": "execute_result"
    }
   ],
   "source": [
    "# Average Borrow, Deposit, and Liquidation Values: cumulativeBorrowUSD divided by cumulativeUniqueBorrowers,\n",
    "# cumulativeDepositUSD divided by cumulativeUniqueDepositors, and cumulativeLiquidateUSD divided by \n",
    "# cumulativeUniqueLiquidatees will give you the average amount borrowed, deposited, and liquidated per user.\n",
    "\n",
    "# Average borrow\n",
    "aave_v3.LendingProtocol.avg_borrow_per_user = SyntheticField(\n",
    "    lambda x, y: x/y,\n",
    "    SyntheticField.FLOAT,\n",
    "    [aave_v3.LendingProtocol.cumulativeBorrowUSD,\n",
    "    aave_v3.LendingProtocol.cumulativeUniqueBorrowers],\n",
    ")\n",
    "\n",
    "# Average deposit\n",
    "aave_v3.LendingProtocol.avg_deposit_per_user = SyntheticField(\n",
    "    lambda x, y: x/y,\n",
    "    SyntheticField.FLOAT,\n",
    "    [aave_v3.LendingProtocol.cumulativeDepositUSD,\n",
    "    aave_v3.LendingProtocol.cumulativeUniqueDepositors],\n",
    ")\n",
    "\n",
    "# Average liqudation per user\n",
    "aave_v3.LendingProtocol.avg_liquidation_per_user = SyntheticField(\n",
    "    lambda x, y: x/y,\n",
    "    SyntheticField.FLOAT,\n",
    "    [aave_v3.LendingProtocol.cumulativeLiquidateUSD,\n",
    "    aave_v3.LendingProtocol.cumulativeUniqueLiquidatees],\n",
    ")\n",
    "\n",
    "sg.query_df([aave_lending.avg_borrow_per_user,\n",
    "          aave_lending.avg_deposit_per_user,\n",
    "          aave_lending.avg_liquidation_per_user])"
   ]
  },
  {
   "cell_type": "code",
   "execution_count": 52,
   "metadata": {},
   "outputs": [
    {
     "data": {
      "text/html": [
       "<div>\n",
       "<style scoped>\n",
       "    .dataframe tbody tr th:only-of-type {\n",
       "        vertical-align: middle;\n",
       "    }\n",
       "\n",
       "    .dataframe tbody tr th {\n",
       "        vertical-align: top;\n",
       "    }\n",
       "\n",
       "    .dataframe thead th {\n",
       "        text-align: right;\n",
       "    }\n",
       "</style>\n",
       "<table border=\"1\" class=\"dataframe\">\n",
       "  <thead>\n",
       "    <tr style=\"text-align: right;\">\n",
       "      <th>side_type</th>\n",
       "      <th>BORROWER-STABLE</th>\n",
       "      <th>BORROWER-VARIABLE</th>\n",
       "      <th>LENDER-VARIABLE</th>\n",
       "    </tr>\n",
       "    <tr>\n",
       "      <th>marketDailySnapshots_timestamp</th>\n",
       "      <th></th>\n",
       "      <th></th>\n",
       "      <th></th>\n",
       "    </tr>\n",
       "  </thead>\n",
       "  <tbody>\n",
       "    <tr>\n",
       "      <th>2023-02-16 22:45:23</th>\n",
       "      <td>7.992675</td>\n",
       "      <td>0.804260</td>\n",
       "      <td>0.037890</td>\n",
       "    </tr>\n",
       "    <tr>\n",
       "      <th>2023-02-17 22:36:35</th>\n",
       "      <td>7.963265</td>\n",
       "      <td>0.771174</td>\n",
       "      <td>0.034163</td>\n",
       "    </tr>\n",
       "    <tr>\n",
       "      <th>2023-02-18 22:48:11</th>\n",
       "      <td>7.946535</td>\n",
       "      <td>0.752352</td>\n",
       "      <td>0.032125</td>\n",
       "    </tr>\n",
       "    <tr>\n",
       "      <th>2023-02-19 21:15:47</th>\n",
       "      <td>7.904136</td>\n",
       "      <td>0.704653</td>\n",
       "      <td>0.027232</td>\n",
       "    </tr>\n",
       "    <tr>\n",
       "      <th>2023-02-20 23:56:59</th>\n",
       "      <td>7.896082</td>\n",
       "      <td>0.695592</td>\n",
       "      <td>0.026346</td>\n",
       "    </tr>\n",
       "    <tr>\n",
       "      <th>...</th>\n",
       "      <td>...</td>\n",
       "      <td>...</td>\n",
       "      <td>...</td>\n",
       "    </tr>\n",
       "    <tr>\n",
       "      <th>2023-05-22 15:31:35</th>\n",
       "      <td>7.509707</td>\n",
       "      <td>0.260920</td>\n",
       "      <td>0.000242</td>\n",
       "    </tr>\n",
       "    <tr>\n",
       "      <th>2023-05-23 21:59:23</th>\n",
       "      <td>7.509709</td>\n",
       "      <td>0.260922</td>\n",
       "      <td>0.000242</td>\n",
       "    </tr>\n",
       "    <tr>\n",
       "      <th>2023-05-24 22:49:59</th>\n",
       "      <td>7.509709</td>\n",
       "      <td>0.260923</td>\n",
       "      <td>0.000242</td>\n",
       "    </tr>\n",
       "    <tr>\n",
       "      <th>2023-05-25 01:37:11</th>\n",
       "      <td>7.509713</td>\n",
       "      <td>0.260927</td>\n",
       "      <td>0.000242</td>\n",
       "    </tr>\n",
       "    <tr>\n",
       "      <th>2023-05-26 10:41:47</th>\n",
       "      <td>7.508868</td>\n",
       "      <td>0.259977</td>\n",
       "      <td>0.000220</td>\n",
       "    </tr>\n",
       "  </tbody>\n",
       "</table>\n",
       "<p>100 rows × 3 columns</p>\n",
       "</div>"
      ],
      "text/plain": [
       "side_type                       BORROWER-STABLE  BORROWER-VARIABLE  \\\n",
       "marketDailySnapshots_timestamp                                       \n",
       "2023-02-16 22:45:23                    7.992675           0.804260   \n",
       "2023-02-17 22:36:35                    7.963265           0.771174   \n",
       "2023-02-18 22:48:11                    7.946535           0.752352   \n",
       "2023-02-19 21:15:47                    7.904136           0.704653   \n",
       "2023-02-20 23:56:59                    7.896082           0.695592   \n",
       "...                                         ...                ...   \n",
       "2023-05-22 15:31:35                    7.509707           0.260920   \n",
       "2023-05-23 21:59:23                    7.509709           0.260922   \n",
       "2023-05-24 22:49:59                    7.509709           0.260923   \n",
       "2023-05-25 01:37:11                    7.509713           0.260927   \n",
       "2023-05-26 10:41:47                    7.508868           0.259977   \n",
       "\n",
       "side_type                       LENDER-VARIABLE  \n",
       "marketDailySnapshots_timestamp                   \n",
       "2023-02-16 22:45:23                    0.037890  \n",
       "2023-02-17 22:36:35                    0.034163  \n",
       "2023-02-18 22:48:11                    0.032125  \n",
       "2023-02-19 21:15:47                    0.027232  \n",
       "2023-02-20 23:56:59                    0.026346  \n",
       "...                                         ...  \n",
       "2023-05-22 15:31:35                    0.000242  \n",
       "2023-05-23 21:59:23                    0.000242  \n",
       "2023-05-24 22:49:59                    0.000242  \n",
       "2023-05-25 01:37:11                    0.000242  \n",
       "2023-05-26 10:41:47                    0.000220  \n",
       "\n",
       "[100 rows x 3 columns]"
      ]
     },
     "execution_count": 52,
     "metadata": {},
     "output_type": "execute_result"
    }
   ],
   "source": [
    "import pandas as pd\n",
    "steth_market_id = '0x0b925ed163218f6662a35e0f0371ac234f9e9371'\n",
    "\n",
    "snapshots = aave_v3.Query.marketDailySnapshots(\n",
    "    first=100,\n",
    "    orderBy=aave_v3.MarketDailySnapshot.timestamp,\n",
    "    orderDirection='desc',\n",
    "    where={\n",
    "        'market':steth_market_id\n",
    "    }\n",
    ")\n",
    "\n",
    "df = sg.query_df([\n",
    "    snapshots.timestamp,\n",
    "    snapshots.rates.rate,\n",
    "    snapshots.rates.side,\n",
    "    snapshots.rates.type\n",
    "])\n",
    "\n",
    "df['side_type'] = df['marketDailySnapshots_rates_side'] +'-' +  df['marketDailySnapshots_rates_type']\n",
    "df2 = df[['marketDailySnapshots_timestamp', 'marketDailySnapshots_rates_rate', 'side_type']]\n",
    "df2 = df2.pivot(index='marketDailySnapshots_timestamp',columns='side_type').droplevel(level=0, axis=1)\n",
    "df2.index = pd.to_datetime(df2.index, unit='s')\n",
    "df2"
   ]
  },
  {
   "cell_type": "code",
   "execution_count": 53,
   "metadata": {},
   "outputs": [
    {
     "data": {
      "application/vnd.plotly.v1+json": {
       "config": {
        "plotlyServerURL": "https://plot.ly"
       },
       "data": [
        {
         "type": "scatter",
         "x": [
          "2023-05-26 11:01:59",
          "2023-05-25 18:29:11",
          "2023-05-24 18:59:11",
          "2023-05-23 18:50:59",
          "2023-05-22 18:59:47",
          "2023-05-21 18:58:35",
          "2023-05-20 18:58:59",
          "2023-05-19 18:54:23",
          "2023-05-18 18:41:35",
          "2023-05-17 18:23:59",
          "2023-05-16 18:21:59",
          "2023-05-15 18:46:23",
          "2023-05-14 18:59:11",
          "2023-05-13 18:55:35",
          "2023-05-12 18:56:35",
          "2023-05-11 18:58:11",
          "2023-05-10 18:35:23",
          "2023-05-09 18:59:23",
          "2023-05-08 18:54:35",
          "2023-05-07 17:56:47",
          "2023-05-06 18:43:59",
          "2023-05-05 18:18:35",
          "2023-05-04 18:41:23",
          "2023-05-03 18:49:11",
          "2023-05-02 18:46:59",
          "2023-05-01 18:48:47",
          "2023-04-30 18:48:47",
          "2023-04-29 18:56:11",
          "2023-04-28 18:59:35",
          "2023-04-27 18:45:59",
          "2023-04-26 18:57:59",
          "2023-04-25 18:52:11",
          "2023-04-24 18:53:59",
          "2023-04-23 18:59:47",
          "2023-04-22 18:52:47",
          "2023-04-21 18:59:59",
          "2023-04-20 18:59:35",
          "2023-04-19 18:51:59",
          "2023-04-18 18:57:59",
          "2023-04-17 18:41:11",
          "2023-04-16 18:59:47",
          "2023-04-15 18:54:11",
          "2023-04-14 18:58:59",
          "2023-04-13 18:59:23",
          "2023-04-12 18:59:11",
          "2023-04-11 18:49:35",
          "2023-04-10 18:58:35",
          "2023-04-09 18:58:35",
          "2023-04-08 18:59:59",
          "2023-04-07 18:57:23",
          "2023-04-06 18:43:47",
          "2023-04-05 18:57:11",
          "2023-04-04 18:57:47",
          "2023-04-03 18:57:11",
          "2023-04-02 18:58:23",
          "2023-04-01 18:58:11",
          "2023-03-31 18:59:11",
          "2023-03-30 18:54:47",
          "2023-03-29 18:57:11",
          "2023-03-28 18:56:23",
          "2023-03-27 18:48:59",
          "2023-03-26 18:59:59",
          "2023-03-25 18:33:11",
          "2023-03-24 18:49:23",
          "2023-03-23 18:57:35",
          "2023-03-22 18:57:35",
          "2023-03-21 18:58:35",
          "2023-03-20 18:52:47",
          "2023-03-19 18:58:11",
          "2023-03-18 18:51:11",
          "2023-03-17 18:59:35",
          "2023-03-16 18:54:35",
          "2023-03-15 18:54:11",
          "2023-03-14 18:56:47",
          "2023-03-13 18:58:59",
          "2023-03-12 18:59:59",
          "2023-03-11 17:58:47",
          "2023-03-10 17:58:47",
          "2023-03-09 17:54:23",
          "2023-03-08 17:59:23",
          "2023-03-07 17:44:11",
          "2023-03-06 17:53:11",
          "2023-03-05 17:51:23",
          "2023-03-04 17:53:23",
          "2023-03-03 17:34:23",
          "2023-03-02 17:59:47",
          "2023-03-01 17:55:23",
          "2023-02-28 17:57:47",
          "2023-02-27 17:56:35",
          "2023-02-26 17:57:59",
          "2023-02-25 17:58:23",
          "2023-02-24 16:59:35",
          "2023-02-23 17:40:47",
          "2023-02-22 17:44:23",
          "2023-02-21 17:59:11",
          "2023-02-20 17:56:59",
          "2023-02-19 17:56:35",
          "2023-02-18 17:42:47",
          "2023-02-17 17:58:47",
          "2023-02-16 17:56:59"
         ],
         "y": [
          87,
          106,
          131,
          106,
          89,
          116,
          91,
          97,
          108,
          115,
          89,
          96,
          97,
          93,
          144,
          101,
          112,
          112,
          99,
          62,
          53,
          65,
          90,
          112,
          83,
          119,
          85,
          100,
          123,
          146,
          171,
          149,
          129,
          113,
          131,
          190,
          143,
          133,
          128,
          156,
          156,
          152,
          246,
          222,
          197,
          157,
          147,
          128,
          132,
          130,
          132,
          121,
          143,
          160,
          130,
          141,
          130,
          125,
          138,
          152,
          151,
          141,
          145,
          178,
          189,
          198,
          185,
          210,
          423,
          238,
          462,
          244,
          254,
          308,
          489,
          501,
          765,
          290,
          161,
          119,
          115,
          99,
          99,
          112,
          151,
          117,
          126,
          120,
          124,
          121,
          121,
          106,
          104,
          109,
          134,
          128,
          127,
          100,
          130,
          136
         ]
        }
       ],
       "layout": {
        "template": {
         "data": {
          "bar": [
           {
            "error_x": {
             "color": "#2a3f5f"
            },
            "error_y": {
             "color": "#2a3f5f"
            },
            "marker": {
             "line": {
              "color": "#E5ECF6",
              "width": 0.5
             },
             "pattern": {
              "fillmode": "overlay",
              "size": 10,
              "solidity": 0.2
             }
            },
            "type": "bar"
           }
          ],
          "barpolar": [
           {
            "marker": {
             "line": {
              "color": "#E5ECF6",
              "width": 0.5
             },
             "pattern": {
              "fillmode": "overlay",
              "size": 10,
              "solidity": 0.2
             }
            },
            "type": "barpolar"
           }
          ],
          "carpet": [
           {
            "aaxis": {
             "endlinecolor": "#2a3f5f",
             "gridcolor": "white",
             "linecolor": "white",
             "minorgridcolor": "white",
             "startlinecolor": "#2a3f5f"
            },
            "baxis": {
             "endlinecolor": "#2a3f5f",
             "gridcolor": "white",
             "linecolor": "white",
             "minorgridcolor": "white",
             "startlinecolor": "#2a3f5f"
            },
            "type": "carpet"
           }
          ],
          "choropleth": [
           {
            "colorbar": {
             "outlinewidth": 0,
             "ticks": ""
            },
            "type": "choropleth"
           }
          ],
          "contour": [
           {
            "colorbar": {
             "outlinewidth": 0,
             "ticks": ""
            },
            "colorscale": [
             [
              0,
              "#0d0887"
             ],
             [
              0.1111111111111111,
              "#46039f"
             ],
             [
              0.2222222222222222,
              "#7201a8"
             ],
             [
              0.3333333333333333,
              "#9c179e"
             ],
             [
              0.4444444444444444,
              "#bd3786"
             ],
             [
              0.5555555555555556,
              "#d8576b"
             ],
             [
              0.6666666666666666,
              "#ed7953"
             ],
             [
              0.7777777777777778,
              "#fb9f3a"
             ],
             [
              0.8888888888888888,
              "#fdca26"
             ],
             [
              1,
              "#f0f921"
             ]
            ],
            "type": "contour"
           }
          ],
          "contourcarpet": [
           {
            "colorbar": {
             "outlinewidth": 0,
             "ticks": ""
            },
            "type": "contourcarpet"
           }
          ],
          "heatmap": [
           {
            "colorbar": {
             "outlinewidth": 0,
             "ticks": ""
            },
            "colorscale": [
             [
              0,
              "#0d0887"
             ],
             [
              0.1111111111111111,
              "#46039f"
             ],
             [
              0.2222222222222222,
              "#7201a8"
             ],
             [
              0.3333333333333333,
              "#9c179e"
             ],
             [
              0.4444444444444444,
              "#bd3786"
             ],
             [
              0.5555555555555556,
              "#d8576b"
             ],
             [
              0.6666666666666666,
              "#ed7953"
             ],
             [
              0.7777777777777778,
              "#fb9f3a"
             ],
             [
              0.8888888888888888,
              "#fdca26"
             ],
             [
              1,
              "#f0f921"
             ]
            ],
            "type": "heatmap"
           }
          ],
          "heatmapgl": [
           {
            "colorbar": {
             "outlinewidth": 0,
             "ticks": ""
            },
            "colorscale": [
             [
              0,
              "#0d0887"
             ],
             [
              0.1111111111111111,
              "#46039f"
             ],
             [
              0.2222222222222222,
              "#7201a8"
             ],
             [
              0.3333333333333333,
              "#9c179e"
             ],
             [
              0.4444444444444444,
              "#bd3786"
             ],
             [
              0.5555555555555556,
              "#d8576b"
             ],
             [
              0.6666666666666666,
              "#ed7953"
             ],
             [
              0.7777777777777778,
              "#fb9f3a"
             ],
             [
              0.8888888888888888,
              "#fdca26"
             ],
             [
              1,
              "#f0f921"
             ]
            ],
            "type": "heatmapgl"
           }
          ],
          "histogram": [
           {
            "marker": {
             "pattern": {
              "fillmode": "overlay",
              "size": 10,
              "solidity": 0.2
             }
            },
            "type": "histogram"
           }
          ],
          "histogram2d": [
           {
            "colorbar": {
             "outlinewidth": 0,
             "ticks": ""
            },
            "colorscale": [
             [
              0,
              "#0d0887"
             ],
             [
              0.1111111111111111,
              "#46039f"
             ],
             [
              0.2222222222222222,
              "#7201a8"
             ],
             [
              0.3333333333333333,
              "#9c179e"
             ],
             [
              0.4444444444444444,
              "#bd3786"
             ],
             [
              0.5555555555555556,
              "#d8576b"
             ],
             [
              0.6666666666666666,
              "#ed7953"
             ],
             [
              0.7777777777777778,
              "#fb9f3a"
             ],
             [
              0.8888888888888888,
              "#fdca26"
             ],
             [
              1,
              "#f0f921"
             ]
            ],
            "type": "histogram2d"
           }
          ],
          "histogram2dcontour": [
           {
            "colorbar": {
             "outlinewidth": 0,
             "ticks": ""
            },
            "colorscale": [
             [
              0,
              "#0d0887"
             ],
             [
              0.1111111111111111,
              "#46039f"
             ],
             [
              0.2222222222222222,
              "#7201a8"
             ],
             [
              0.3333333333333333,
              "#9c179e"
             ],
             [
              0.4444444444444444,
              "#bd3786"
             ],
             [
              0.5555555555555556,
              "#d8576b"
             ],
             [
              0.6666666666666666,
              "#ed7953"
             ],
             [
              0.7777777777777778,
              "#fb9f3a"
             ],
             [
              0.8888888888888888,
              "#fdca26"
             ],
             [
              1,
              "#f0f921"
             ]
            ],
            "type": "histogram2dcontour"
           }
          ],
          "mesh3d": [
           {
            "colorbar": {
             "outlinewidth": 0,
             "ticks": ""
            },
            "type": "mesh3d"
           }
          ],
          "parcoords": [
           {
            "line": {
             "colorbar": {
              "outlinewidth": 0,
              "ticks": ""
             }
            },
            "type": "parcoords"
           }
          ],
          "pie": [
           {
            "automargin": true,
            "type": "pie"
           }
          ],
          "scatter": [
           {
            "fillpattern": {
             "fillmode": "overlay",
             "size": 10,
             "solidity": 0.2
            },
            "type": "scatter"
           }
          ],
          "scatter3d": [
           {
            "line": {
             "colorbar": {
              "outlinewidth": 0,
              "ticks": ""
             }
            },
            "marker": {
             "colorbar": {
              "outlinewidth": 0,
              "ticks": ""
             }
            },
            "type": "scatter3d"
           }
          ],
          "scattercarpet": [
           {
            "marker": {
             "colorbar": {
              "outlinewidth": 0,
              "ticks": ""
             }
            },
            "type": "scattercarpet"
           }
          ],
          "scattergeo": [
           {
            "marker": {
             "colorbar": {
              "outlinewidth": 0,
              "ticks": ""
             }
            },
            "type": "scattergeo"
           }
          ],
          "scattergl": [
           {
            "marker": {
             "colorbar": {
              "outlinewidth": 0,
              "ticks": ""
             }
            },
            "type": "scattergl"
           }
          ],
          "scattermapbox": [
           {
            "marker": {
             "colorbar": {
              "outlinewidth": 0,
              "ticks": ""
             }
            },
            "type": "scattermapbox"
           }
          ],
          "scatterpolar": [
           {
            "marker": {
             "colorbar": {
              "outlinewidth": 0,
              "ticks": ""
             }
            },
            "type": "scatterpolar"
           }
          ],
          "scatterpolargl": [
           {
            "marker": {
             "colorbar": {
              "outlinewidth": 0,
              "ticks": ""
             }
            },
            "type": "scatterpolargl"
           }
          ],
          "scatterternary": [
           {
            "marker": {
             "colorbar": {
              "outlinewidth": 0,
              "ticks": ""
             }
            },
            "type": "scatterternary"
           }
          ],
          "surface": [
           {
            "colorbar": {
             "outlinewidth": 0,
             "ticks": ""
            },
            "colorscale": [
             [
              0,
              "#0d0887"
             ],
             [
              0.1111111111111111,
              "#46039f"
             ],
             [
              0.2222222222222222,
              "#7201a8"
             ],
             [
              0.3333333333333333,
              "#9c179e"
             ],
             [
              0.4444444444444444,
              "#bd3786"
             ],
             [
              0.5555555555555556,
              "#d8576b"
             ],
             [
              0.6666666666666666,
              "#ed7953"
             ],
             [
              0.7777777777777778,
              "#fb9f3a"
             ],
             [
              0.8888888888888888,
              "#fdca26"
             ],
             [
              1,
              "#f0f921"
             ]
            ],
            "type": "surface"
           }
          ],
          "table": [
           {
            "cells": {
             "fill": {
              "color": "#EBF0F8"
             },
             "line": {
              "color": "white"
             }
            },
            "header": {
             "fill": {
              "color": "#C8D4E3"
             },
             "line": {
              "color": "white"
             }
            },
            "type": "table"
           }
          ]
         },
         "layout": {
          "annotationdefaults": {
           "arrowcolor": "#2a3f5f",
           "arrowhead": 0,
           "arrowwidth": 1
          },
          "autotypenumbers": "strict",
          "coloraxis": {
           "colorbar": {
            "outlinewidth": 0,
            "ticks": ""
           }
          },
          "colorscale": {
           "diverging": [
            [
             0,
             "#8e0152"
            ],
            [
             0.1,
             "#c51b7d"
            ],
            [
             0.2,
             "#de77ae"
            ],
            [
             0.3,
             "#f1b6da"
            ],
            [
             0.4,
             "#fde0ef"
            ],
            [
             0.5,
             "#f7f7f7"
            ],
            [
             0.6,
             "#e6f5d0"
            ],
            [
             0.7,
             "#b8e186"
            ],
            [
             0.8,
             "#7fbc41"
            ],
            [
             0.9,
             "#4d9221"
            ],
            [
             1,
             "#276419"
            ]
           ],
           "sequential": [
            [
             0,
             "#0d0887"
            ],
            [
             0.1111111111111111,
             "#46039f"
            ],
            [
             0.2222222222222222,
             "#7201a8"
            ],
            [
             0.3333333333333333,
             "#9c179e"
            ],
            [
             0.4444444444444444,
             "#bd3786"
            ],
            [
             0.5555555555555556,
             "#d8576b"
            ],
            [
             0.6666666666666666,
             "#ed7953"
            ],
            [
             0.7777777777777778,
             "#fb9f3a"
            ],
            [
             0.8888888888888888,
             "#fdca26"
            ],
            [
             1,
             "#f0f921"
            ]
           ],
           "sequentialminus": [
            [
             0,
             "#0d0887"
            ],
            [
             0.1111111111111111,
             "#46039f"
            ],
            [
             0.2222222222222222,
             "#7201a8"
            ],
            [
             0.3333333333333333,
             "#9c179e"
            ],
            [
             0.4444444444444444,
             "#bd3786"
            ],
            [
             0.5555555555555556,
             "#d8576b"
            ],
            [
             0.6666666666666666,
             "#ed7953"
            ],
            [
             0.7777777777777778,
             "#fb9f3a"
            ],
            [
             0.8888888888888888,
             "#fdca26"
            ],
            [
             1,
             "#f0f921"
            ]
           ]
          },
          "colorway": [
           "#636efa",
           "#EF553B",
           "#00cc96",
           "#ab63fa",
           "#FFA15A",
           "#19d3f3",
           "#FF6692",
           "#B6E880",
           "#FF97FF",
           "#FECB52"
          ],
          "font": {
           "color": "#2a3f5f"
          },
          "geo": {
           "bgcolor": "white",
           "lakecolor": "white",
           "landcolor": "#E5ECF6",
           "showlakes": true,
           "showland": true,
           "subunitcolor": "white"
          },
          "hoverlabel": {
           "align": "left"
          },
          "hovermode": "closest",
          "mapbox": {
           "style": "light"
          },
          "paper_bgcolor": "white",
          "plot_bgcolor": "#E5ECF6",
          "polar": {
           "angularaxis": {
            "gridcolor": "white",
            "linecolor": "white",
            "ticks": ""
           },
           "bgcolor": "#E5ECF6",
           "radialaxis": {
            "gridcolor": "white",
            "linecolor": "white",
            "ticks": ""
           }
          },
          "scene": {
           "xaxis": {
            "backgroundcolor": "#E5ECF6",
            "gridcolor": "white",
            "gridwidth": 2,
            "linecolor": "white",
            "showbackground": true,
            "ticks": "",
            "zerolinecolor": "white"
           },
           "yaxis": {
            "backgroundcolor": "#E5ECF6",
            "gridcolor": "white",
            "gridwidth": 2,
            "linecolor": "white",
            "showbackground": true,
            "ticks": "",
            "zerolinecolor": "white"
           },
           "zaxis": {
            "backgroundcolor": "#E5ECF6",
            "gridcolor": "white",
            "gridwidth": 2,
            "linecolor": "white",
            "showbackground": true,
            "ticks": "",
            "zerolinecolor": "white"
           }
          },
          "shapedefaults": {
           "line": {
            "color": "#2a3f5f"
           }
          },
          "ternary": {
           "aaxis": {
            "gridcolor": "white",
            "linecolor": "white",
            "ticks": ""
           },
           "baxis": {
            "gridcolor": "white",
            "linecolor": "white",
            "ticks": ""
           },
           "bgcolor": "#E5ECF6",
           "caxis": {
            "gridcolor": "white",
            "linecolor": "white",
            "ticks": ""
           }
          },
          "title": {
           "x": 0.05
          },
          "xaxis": {
           "automargin": true,
           "gridcolor": "white",
           "linecolor": "white",
           "ticks": "",
           "title": {
            "standoff": 15
           },
           "zerolinecolor": "white",
           "zerolinewidth": 2
          },
          "yaxis": {
           "automargin": true,
           "gridcolor": "white",
           "linecolor": "white",
           "ticks": "",
           "title": {
            "standoff": 15
           },
           "zerolinecolor": "white",
           "zerolinewidth": 2
          }
         }
        },
        "title": {
         "text": "Daily Active Users vs Datetime"
        },
        "xaxis": {
         "title": {
          "text": "Datetime"
         }
        },
        "yaxis": {
         "title": {
          "text": "Daily Active Users"
         }
        }
       }
      }
     },
     "metadata": {},
     "output_type": "display_data"
    }
   ],
   "source": [
    "from subgrounds.contrib.plotly import Figure, Scatter\n",
    "\n",
    "# Create the Scatter trace with appropriate field paths\n",
    "trace = Scatter(\n",
    "    x=usage_metrics_daily.datetime,\n",
    "    y=usage_metrics_daily.dailyActiveUsers,\n",
    ")\n",
    "\n",
    "# Create the Figure instance with the trace and display it\n",
    "fig = Figure(\n",
    "    subgrounds=sg,\n",
    "    traces=trace,\n",
    "    layout=dict(\n",
    "        title=\"Daily Active Users vs Datetime\",\n",
    "        xaxis=dict(title=\"Datetime\"),\n",
    "        yaxis=dict(title=\"Daily Active Users\")\n",
    "    ),\n",
    ")\n",
    "fig.figure.show()"
   ]
  }
 ],
 "metadata": {
  "kernelspec": {
   "display_name": "Python 3.10.2 ('subgroundsEnv': venv)",
   "language": "python",
   "name": "python3"
  },
  "language_info": {
   "codemirror_mode": {
    "name": "ipython",
    "version": 3
   },
   "file_extension": ".py",
   "mimetype": "text/x-python",
   "name": "python",
   "nbconvert_exporter": "python",
   "pygments_lexer": "ipython3",
   "version": "3.10.2"
  },
  "orig_nbformat": 4,
  "vscode": {
   "interpreter": {
    "hash": "5e01dad8a87569d700bc084cc42f01a4560577cc0dcddfd5931e8a480921b22a"
   }
  }
 },
 "nbformat": 4,
 "nbformat_minor": 2
}
